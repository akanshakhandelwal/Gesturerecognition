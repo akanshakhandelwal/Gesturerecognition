{
 "cells": [
  {
   "cell_type": "markdown",
   "metadata": {
    "id": "YY8E0q_i78ds"
   },
   "source": [
    "# Gesture Recognition\n",
    "In this group project, you are going to build a 3D Conv model that will be able to predict the 5 gestures correctly. Please import the following libraries to get started."
   ]
  },
  {
   "cell_type": "code",
   "execution_count": 21,
   "metadata": {
    "colab": {
     "base_uri": "https://localhost:8080/"
    },
    "id": "QKHz1QZH8BTg",
    "outputId": "beb48e6a-50be-4329-ae62-66f4a4fc4051"
   },
   "outputs": [
    {
     "name": "stdout",
     "output_type": "stream",
     "text": [
      "Drive already mounted at /content/drive; to attempt to forcibly remount, call drive.mount(\"/content/drive\", force_remount=True).\n"
     ]
    }
   ],
   "source": [
    "from google.colab import drive\n",
    "drive.mount('/content/drive')"
   ]
  },
  {
   "cell_type": "code",
   "execution_count": 22,
   "metadata": {
    "id": "55B-CnA_78du"
   },
   "outputs": [],
   "source": [
    "import numpy as np\n",
    "import os\n",
    "from PIL import Image\n",
    "import imageio\n",
    "import datetime\n",
    "import os\n",
    "import matplotlib.pyplot as plt"
   ]
  },
  {
   "cell_type": "markdown",
   "metadata": {
    "id": "r2rp0gfh78dv"
   },
   "source": [
    "We set the random seed so that the results don't vary drastically."
   ]
  },
  {
   "cell_type": "code",
   "execution_count": 23,
   "metadata": {
    "id": "OMxNt4hL78dw"
   },
   "outputs": [],
   "source": [
    "np.random.seed(30)\n",
    "import random as rn\n",
    "rn.seed(30)\n",
    "import tensorflow as tf\n",
    "from keras import backend as K\n",
    "tf.random.set_seed(30)"
   ]
  },
  {
   "cell_type": "markdown",
   "metadata": {
    "id": "RkQqB4ME78dw"
   },
   "source": [
    "In this block, you read the folder names for training and validation. You also set the `batch_size` here. Note that you set the batch size in such a way that you are able to use the GPU in full capacity. You keep increasing the batch size until the machine throws an error."
   ]
  },
  {
   "cell_type": "code",
   "execution_count": 24,
   "metadata": {
    "id": "rv1kkw3R78dx"
   },
   "outputs": [],
   "source": [
    "train_doc = np.random.permutation(open('/content/drive/MyDrive/Project_data/train.csv').readlines())\n",
    "val_doc = np.random.permutation(open('/content/drive/MyDrive/Project_data/val.csv').readlines())\n",
    "batch_size = 32"
   ]
  },
  {
   "cell_type": "markdown",
   "metadata": {
    "id": "ByKDqU3v78dx"
   },
   "source": [
    "#### Displaying a sample image"
   ]
  },
  {
   "cell_type": "markdown",
   "metadata": {
    "id": "KQmxjh2K78dy"
   },
   "source": [
    "## Generator\n",
    "This is one of the most important part of the code. The overall structure of the generator has been given. In the generator, you are going to preprocess the images as you have images of 2 different dimensions as well as create a batch of video frames. You have to experiment with `img_idx`, `y`,`z` and normalization such that you get high accuracy."
   ]
  },
  {
   "cell_type": "code",
   "execution_count": 25,
   "metadata": {
    "id": "YVPgxdJp78dy"
   },
   "outputs": [],
   "source": [
    "def generator(source_path, folder_list, batch_size):\n",
    "    print( 'Source path = ', source_path, '; batch size =', batch_size)\n",
    "    img_idx = np.arange(0,30,2)\n",
    "    while True:\n",
    "        \n",
    "        num_batches = len(folder_list)//batch_size\n",
    "        batch_data, batch_labels = iterate_batches(source_path,folder_list,num_batches,img_idx,120,120)\n",
    "        yield batch_data, batch_labels \n",
    "\n",
    "        remaining_batches = len(folder_list)%batch_size\n",
    "        batch_data, batch_labels = iterate_batches(source_path,folder_list,num_batches,img_idx,120,120)\n",
    "        yield batch_data, batch_labels "
   ]
  },
  {
   "cell_type": "code",
   "execution_count": 26,
   "metadata": {
    "id": "8Mxucy9X78dz"
   },
   "outputs": [],
   "source": [
    "def iterate_batches(source_path,folder_list,num_batches,img_idx,img_height,img_width):\n",
    "    t = np.random.permutation(folder_list)\n",
    "    for batch in range(num_batches): # we iterate over the number of batches\n",
    "            batch_data = np.zeros((batch_size,len(img_idx),img_height,img_width,3)) # x is the number of images you use for each video, (y,z) is the final size of the input images and 3 is the number of channels RGB\n",
    "            batch_labels = np.zeros((batch_size,5)) # batch_labels is the one hot representation of the output\n",
    "            for folder in range(batch_size): # iterate over the batch_size\n",
    "                imgs = os.listdir(source_path+'/'+ t[folder + (batch*batch_size)].split(';')[0]) # read all the images in the folder\n",
    "                for idx,item in enumerate(img_idx): #  Iterate iver the frames/images of a folder to read them in\n",
    "                    image = imageio.imread(source_path+'/'+ t[folder + (batch*batch_size)].strip().split(';')[0]+'/'+imgs[item]).astype(np.float32)\n",
    "                    \n",
    "                    #crop the images and resize them. Note that the images are of 2 different shape \n",
    "                    #and the conv3D will throw error if the inputs in a batch have different shapes\n",
    "                    image = np.array(Image.fromarray((image * 255).astype(np.uint8)).resize((img_height, img_width)).convert('RGB'))\n",
    "                    image = image - np.percentile(image,5)/ np.percentile(image,95) - np.percentile(image,5)\n",
    "                    batch_data[folder,idx,:,:,0] = image[:,:,0]\n",
    "                    batch_data[folder,idx,:,:,1] = image[:,:,1]\n",
    "                    batch_data[folder,idx,:,:,2] = image[:,:,2]\n",
    "                    \n",
    "                batch_labels[folder, int(t[folder + (batch*batch_size)].strip().split(';')[2])] = 1\n",
    "            return(batch_data,batch_labels)\n",
    "\n"
   ]
  },
  {
   "cell_type": "markdown",
   "metadata": {
    "id": "TDdyEusE78dz"
   },
   "source": [
    "Note here that a video is represented above in the generator as (number of images, height, width, number of channels). Take this into consideration while creating the model architecture."
   ]
  },
  {
   "cell_type": "code",
   "execution_count": 27,
   "metadata": {
    "colab": {
     "base_uri": "https://localhost:8080/"
    },
    "id": "irQ79Y9d78dz",
    "outputId": "13c939c2-c1d4-49b3-d223-de84e17a7a91"
   },
   "outputs": [
    {
     "name": "stdout",
     "output_type": "stream",
     "text": [
      "# training sequences = 663\n",
      "# validation sequences = 100\n",
      "# epochs = 30\n"
     ]
    }
   ],
   "source": [
    "curr_dt_time = datetime.datetime.now()\n",
    "train_path = '/content/drive/MyDrive/Project_data/train'\n",
    "val_path = '/content/drive/MyDrive/Project_data/val'\n",
    "num_train_sequences = len(train_doc)\n",
    "print('# training sequences =', num_train_sequences)\n",
    "num_val_sequences = len(val_doc)\n",
    "print('# validation sequences =', num_val_sequences)\n",
    "num_epochs = 30\n",
    "print ('# epochs =', num_epochs)"
   ]
  },
  {
   "cell_type": "markdown",
   "metadata": {
    "id": "s2uLR8fG78d0"
   },
   "source": [
    "## Model\n",
    "Here you make the model using different functionalities that Keras provides. Remember to use `Conv3D` and `MaxPooling3D` and not `Conv2D` and `Maxpooling2D` for a 3D convolution model. You would want to use `TimeDistributed` while building a Conv2D + RNN model. Also remember that the last layer is the softmax. Design the network in such a way that the model is able to give good accuracy on the least number of parameters so that it can fit in the memory of the webcam."
   ]
  },
  {
   "cell_type": "code",
   "execution_count": 28,
   "metadata": {
    "id": "1QYFjyhY78d0"
   },
   "outputs": [],
   "source": [
    "def compileandbuildmodel(model):\n",
    "    optimiser = 'sgd'\n",
    "    model.compile(optimizer=optimiser, loss='categorical_crossentropy', metrics=['categorical_accuracy'])\n",
    "    print (model.summary())\n",
    "    \n",
    "    #Let us create the train_generator and the val_generator which will be used in .fit_generator.\n",
    "    train_generator = generator(train_path, train_doc, batch_size)\n",
    "    val_generator = generator(val_path, val_doc, batch_size)\n",
    "    model_name = 'model_init' + '_' + str(curr_dt_time).replace(' ','').replace(':','_') + '/'\n",
    "    \n",
    "    if not os.path.exists(model_name):\n",
    "        os.mkdir(model_name)\n",
    "        \n",
    "    filepath = model_name + 'model-{epoch:05d}-{loss:.5f}-{categorical_accuracy:.5f}-{val_loss:.5f}-{val_categorical_accuracy:.5f}.h5'\n",
    "\n",
    "    checkpoint = ModelCheckpoint(filepath, monitor='val_loss', verbose=1, save_best_only=False, save_weights_only=False, mode='auto', period=1)\n",
    "    \n",
    "    LR = ReduceLROnPlateau(monitor='val_loss', factor=0.2, patience=5, min_lr=0.01)\n",
    "    callbacks_list = [checkpoint, LR]\n",
    "    \n",
    "    #The steps_per_epoch and validation_steps are used by fit_generator to decide the number of next() calls it need to make.\n",
    "    if (num_train_sequences%batch_size) == 0:\n",
    "        steps_per_epoch = int(num_train_sequences/batch_size)\n",
    "    else:\n",
    "        steps_per_epoch = (num_train_sequences//batch_size) + 1\n",
    "\n",
    "    if (num_val_sequences%batch_size) == 0:\n",
    "        validation_steps = int(num_val_sequences/batch_size)\n",
    "    else:\n",
    "        validation_steps = (num_val_sequences//batch_size) + 1\n",
    "     \n",
    "    #Fit the model This will start training the model and with the help of the checkpoints, you'll be able to save the model at the end of each epoch\n",
    "    history = model.fit_generator(train_generator, steps_per_epoch=steps_per_epoch, epochs=num_epochs, verbose=1, \n",
    "                    callbacks=callbacks_list, validation_data=val_generator, \n",
    "                    validation_steps=validation_steps, class_weight=None, workers=1, initial_epoch=0)\n",
    "    \n",
    "    fig, axes = plt.subplots(nrows=1, ncols=2, figsize=(15,4))\n",
    "    axes[0].plot(history.history['loss'])   \n",
    "    axes[0].plot(history.history['val_loss'])\n",
    "    axes[0].legend(['loss','val_loss'])\n",
    "\n",
    "    axes[1].plot(history.history['categorical_accuracy'])   \n",
    "    axes[1].plot(history.history['val_categorical_accuracy'])\n",
    "    axes[1].legend(['categorical_accuracy','val_categorical_accuracy'])"
   ]
  },
  {
   "cell_type": "markdown",
   "metadata": {
    "id": "0-uUwaZJ78d0"
   },
   "source": [
    "### CNN+LSTM"
   ]
  },
  {
   "cell_type": "code",
   "execution_count": 29,
   "metadata": {
    "id": "VjqxycfE78d0"
   },
   "outputs": [],
   "source": [
    "from keras.models import Sequential, Model\n",
    "from keras.layers import Dense, GRU, Flatten, TimeDistributed, Flatten, BatchNormalization, Activation, Dropout\n",
    "from keras.layers.convolutional import Conv2D, MaxPooling2D, AveragePooling2D\n",
    "from keras.callbacks import ModelCheckpoint, ReduceLROnPlateau\n",
    "from keras import optimizers\n",
    "from keras.regularizers import l2\n",
    "from keras.layers import LSTM, GRU, Bidirectional, SimpleRNN, RNN\n",
    "model = Sequential()\n",
    "\n",
    "model.add(TimeDistributed(Conv2D(16, (2, 2), padding='same'),\n",
    "                 input_shape=(15,120,120,3)))\n",
    "model.add(Activation('relu'))\n",
    "model.add(BatchNormalization())\n",
    "model.add(TimeDistributed(Conv2D(32, (2, 2))))\n",
    "model.add(Activation('relu'))\n",
    "model.add(BatchNormalization())\n",
    "model.add(TimeDistributed(MaxPooling2D(pool_size=(2, 2))))\n",
    "model.add(Dropout(0.2))\n",
    "\n",
    "model.add(TimeDistributed(Conv2D(64, (2, 2), padding='same')))\n",
    "model.add(Activation('relu'))\n",
    "model.add(BatchNormalization())\n",
    "model.add(TimeDistributed(Conv2D(128, (2, 2), padding='same')))\n",
    "model.add(Activation('relu'))\n",
    "model.add(BatchNormalization())\n",
    "model.add(TimeDistributed(MaxPooling2D(pool_size=(2, 2))))\n",
    "model.add(Dropout(0.2))\n",
    "\n",
    "model.add(TimeDistributed(Flatten()))\n",
    "model.add(LSTM(256, return_sequences=False, dropout=0.5))\n",
    "model.add(Dense(64,kernel_regularizer=l2(0.01)))\n",
    "model.add(Activation('relu'))\n",
    "model.add(Dropout(0.25))\n",
    "model.add(Dense(5))\n",
    "model.add(Activation('softmax'))"
   ]
  },
  {
   "cell_type": "code",
   "execution_count": 30,
   "metadata": {
    "colab": {
     "base_uri": "https://localhost:8080/",
     "height": 1000
    },
    "id": "-0uh5ekG78d0",
    "outputId": "dccef07c-5bd6-4f34-e1cc-def585e1b225"
   },
   "outputs": [
    {
     "name": "stdout",
     "output_type": "stream",
     "text": [
      "Model: \"sequential_2\"\n",
      "_________________________________________________________________\n",
      " Layer (type)                Output Shape              Param #   \n",
      "=================================================================\n",
      " time_distributed_14 (TimeDi  (None, 15, 120, 120, 16)  208      \n",
      " stributed)                                                      \n",
      "                                                                 \n",
      " activation_12 (Activation)  (None, 15, 120, 120, 16)  0         \n",
      "                                                                 \n",
      " batch_normalization_8 (Batc  (None, 15, 120, 120, 16)  64       \n",
      " hNormalization)                                                 \n",
      "                                                                 \n",
      " time_distributed_15 (TimeDi  (None, 15, 119, 119, 32)  2080     \n",
      " stributed)                                                      \n",
      "                                                                 \n",
      " activation_13 (Activation)  (None, 15, 119, 119, 32)  0         \n",
      "                                                                 \n",
      " batch_normalization_9 (Batc  (None, 15, 119, 119, 32)  128      \n",
      " hNormalization)                                                 \n",
      "                                                                 \n",
      " time_distributed_16 (TimeDi  (None, 15, 59, 59, 32)   0         \n",
      " stributed)                                                      \n",
      "                                                                 \n",
      " dropout_6 (Dropout)         (None, 15, 59, 59, 32)    0         \n",
      "                                                                 \n",
      " time_distributed_17 (TimeDi  (None, 15, 59, 59, 64)   8256      \n",
      " stributed)                                                      \n",
      "                                                                 \n",
      " activation_14 (Activation)  (None, 15, 59, 59, 64)    0         \n",
      "                                                                 \n",
      " batch_normalization_10 (Bat  (None, 15, 59, 59, 64)   256       \n",
      " chNormalization)                                                \n",
      "                                                                 \n",
      " time_distributed_18 (TimeDi  (None, 15, 59, 59, 128)  32896     \n",
      " stributed)                                                      \n",
      "                                                                 \n",
      " activation_15 (Activation)  (None, 15, 59, 59, 128)   0         \n",
      "                                                                 \n",
      " batch_normalization_11 (Bat  (None, 15, 59, 59, 128)  512       \n",
      " chNormalization)                                                \n",
      "                                                                 \n",
      " time_distributed_19 (TimeDi  (None, 15, 29, 29, 128)  0         \n",
      " stributed)                                                      \n",
      "                                                                 \n",
      " dropout_7 (Dropout)         (None, 15, 29, 29, 128)   0         \n",
      "                                                                 \n",
      " time_distributed_20 (TimeDi  (None, 15, 107648)       0         \n",
      " stributed)                                                      \n",
      "                                                                 \n",
      " lstm_2 (LSTM)               (None, 256)               110494720 \n",
      "                                                                 \n",
      " dense_4 (Dense)             (None, 64)                16448     \n",
      "                                                                 \n",
      " activation_16 (Activation)  (None, 64)                0         \n",
      "                                                                 \n",
      " dropout_8 (Dropout)         (None, 64)                0         \n",
      "                                                                 \n",
      " dense_5 (Dense)             (None, 5)                 325       \n",
      "                                                                 \n",
      " activation_17 (Activation)  (None, 5)                 0         \n",
      "                                                                 \n",
      "=================================================================\n",
      "Total params: 110,555,893\n",
      "Trainable params: 110,555,413\n",
      "Non-trainable params: 480\n",
      "_________________________________________________________________\n",
      "None\n",
      "WARNING:tensorflow:`period` argument is deprecated. Please use `save_freq` to specify the frequency in number of batches seen.\n",
      "Source path =  /content/drive/MyDrive/Project_data/train ; batch size = 32\n"
     ]
    },
    {
     "name": "stderr",
     "output_type": "stream",
     "text": [
      "/usr/local/lib/python3.7/dist-packages/ipykernel_launcher.py:35: UserWarning: `Model.fit_generator` is deprecated and will be removed in a future version. Please use `Model.fit`, which supports generators.\n"
     ]
    },
    {
     "name": "stdout",
     "output_type": "stream",
     "text": [
      "Epoch 1/30\n",
      "21/21 [==============================] - ETA: 0s - loss: 2.4684 - categorical_accuracy: 0.3720  Source path =  /content/drive/MyDrive/Project_data/val ; batch size = 32\n",
      "\n",
      "Epoch 1: saving model to model_init_2022-03-1008_37_12.937567/model-00001-2.46836-0.37202-2.80700-0.25000.h5\n",
      "21/21 [==============================] - 1906s 94s/step - loss: 2.4684 - categorical_accuracy: 0.3720 - val_loss: 2.8070 - val_categorical_accuracy: 0.2500 - lr: 0.0100\n",
      "Epoch 2/30\n",
      "21/21 [==============================] - ETA: 0s - loss: 2.1399 - categorical_accuracy: 0.5595 \n",
      "Epoch 2: saving model to model_init_2022-03-1008_37_12.937567/model-00002-2.13995-0.55952-2.71800-0.28906.h5\n",
      "21/21 [==============================] - 683s 34s/step - loss: 2.1399 - categorical_accuracy: 0.5595 - val_loss: 2.7180 - val_categorical_accuracy: 0.2891 - lr: 0.0100\n",
      "Epoch 3/30\n",
      "21/21 [==============================] - ETA: 0s - loss: 1.9899 - categorical_accuracy: 0.6176 \n",
      "Epoch 3: saving model to model_init_2022-03-1008_37_12.937567/model-00003-1.98991-0.61756-2.44368-0.38281.h5\n",
      "21/21 [==============================] - 308s 15s/step - loss: 1.9899 - categorical_accuracy: 0.6176 - val_loss: 2.4437 - val_categorical_accuracy: 0.3828 - lr: 0.0100\n",
      "Epoch 4/30\n",
      "21/21 [==============================] - ETA: 0s - loss: 1.7578 - categorical_accuracy: 0.7366\n",
      "Epoch 4: saving model to model_init_2022-03-1008_37_12.937567/model-00004-1.75776-0.73661-2.45190-0.34375.h5\n",
      "21/21 [==============================] - 174s 9s/step - loss: 1.7578 - categorical_accuracy: 0.7366 - val_loss: 2.4519 - val_categorical_accuracy: 0.3438 - lr: 0.0100\n",
      "Epoch 5/30\n",
      "21/21 [==============================] - ETA: 0s - loss: 1.6080 - categorical_accuracy: 0.7917\n",
      "Epoch 5: saving model to model_init_2022-03-1008_37_12.937567/model-00005-1.60801-0.79167-2.27828-0.43750.h5\n",
      "21/21 [==============================] - 123s 6s/step - loss: 1.6080 - categorical_accuracy: 0.7917 - val_loss: 2.2783 - val_categorical_accuracy: 0.4375 - lr: 0.0100\n",
      "Epoch 6/30\n",
      "21/21 [==============================] - ETA: 0s - loss: 1.4420 - categorical_accuracy: 0.8705\n",
      "Epoch 6: saving model to model_init_2022-03-1008_37_12.937567/model-00006-1.44199-0.87054-2.30604-0.42969.h5\n",
      "21/21 [==============================] - 120s 6s/step - loss: 1.4420 - categorical_accuracy: 0.8705 - val_loss: 2.3060 - val_categorical_accuracy: 0.4297 - lr: 0.0100\n",
      "Epoch 7/30\n",
      "21/21 [==============================] - ETA: 0s - loss: 1.3642 - categorical_accuracy: 0.8958\n",
      "Epoch 7: saving model to model_init_2022-03-1008_37_12.937567/model-00007-1.36423-0.89583-2.02106-0.60156.h5\n",
      "21/21 [==============================] - 111s 5s/step - loss: 1.3642 - categorical_accuracy: 0.8958 - val_loss: 2.0211 - val_categorical_accuracy: 0.6016 - lr: 0.0100\n",
      "Epoch 8/30\n",
      "21/21 [==============================] - ETA: 0s - loss: 1.2431 - categorical_accuracy: 0.9420\n",
      "Epoch 8: saving model to model_init_2022-03-1008_37_12.937567/model-00008-1.24306-0.94196-2.00577-0.60938.h5\n",
      "21/21 [==============================] - 106s 5s/step - loss: 1.2431 - categorical_accuracy: 0.9420 - val_loss: 2.0058 - val_categorical_accuracy: 0.6094 - lr: 0.0100\n",
      "Epoch 9/30\n",
      "21/21 [==============================] - ETA: 0s - loss: 1.2021 - categorical_accuracy: 0.9420\n",
      "Epoch 9: saving model to model_init_2022-03-1008_37_12.937567/model-00009-1.20210-0.94196-1.94272-0.58594.h5\n",
      "21/21 [==============================] - 107s 5s/step - loss: 1.2021 - categorical_accuracy: 0.9420 - val_loss: 1.9427 - val_categorical_accuracy: 0.5859 - lr: 0.0100\n",
      "Epoch 10/30\n",
      "21/21 [==============================] - ETA: 0s - loss: 1.1390 - categorical_accuracy: 0.9777\n",
      "Epoch 10: saving model to model_init_2022-03-1008_37_12.937567/model-00010-1.13903-0.97768-1.87254-0.60156.h5\n",
      "21/21 [==============================] - 105s 5s/step - loss: 1.1390 - categorical_accuracy: 0.9777 - val_loss: 1.8725 - val_categorical_accuracy: 0.6016 - lr: 0.0100\n",
      "Epoch 11/30\n",
      "21/21 [==============================] - ETA: 0s - loss: 1.1210 - categorical_accuracy: 0.9658\n",
      "Epoch 11: saving model to model_init_2022-03-1008_37_12.937567/model-00011-1.12099-0.96577-1.76348-0.69531.h5\n",
      "21/21 [==============================] - 104s 5s/step - loss: 1.1210 - categorical_accuracy: 0.9658 - val_loss: 1.7635 - val_categorical_accuracy: 0.6953 - lr: 0.0100\n",
      "Epoch 12/30\n",
      "21/21 [==============================] - ETA: 0s - loss: 1.0741 - categorical_accuracy: 0.9777\n",
      "Epoch 12: saving model to model_init_2022-03-1008_37_12.937567/model-00012-1.07409-0.97768-1.75719-0.70312.h5\n",
      "21/21 [==============================] - 102s 5s/step - loss: 1.0741 - categorical_accuracy: 0.9777 - val_loss: 1.7572 - val_categorical_accuracy: 0.7031 - lr: 0.0100\n",
      "Epoch 13/30\n",
      "21/21 [==============================] - ETA: 0s - loss: 1.0317 - categorical_accuracy: 0.9866\n",
      "Epoch 13: saving model to model_init_2022-03-1008_37_12.937567/model-00013-1.03174-0.98661-1.79942-0.68750.h5\n",
      "21/21 [==============================] - 102s 5s/step - loss: 1.0317 - categorical_accuracy: 0.9866 - val_loss: 1.7994 - val_categorical_accuracy: 0.6875 - lr: 0.0100\n",
      "Epoch 14/30\n",
      "21/21 [==============================] - ETA: 0s - loss: 1.0262 - categorical_accuracy: 0.9896\n",
      "Epoch 14: saving model to model_init_2022-03-1008_37_12.937567/model-00014-1.02618-0.98958-1.99778-0.65625.h5\n",
      "21/21 [==============================] - 102s 5s/step - loss: 1.0262 - categorical_accuracy: 0.9896 - val_loss: 1.9978 - val_categorical_accuracy: 0.6562 - lr: 0.0100\n",
      "Epoch 15/30\n",
      "21/21 [==============================] - ETA: 0s - loss: 1.0020 - categorical_accuracy: 0.9940\n",
      "Epoch 15: saving model to model_init_2022-03-1008_37_12.937567/model-00015-1.00198-0.99405-1.90900-0.60156.h5\n",
      "21/21 [==============================] - 104s 5s/step - loss: 1.0020 - categorical_accuracy: 0.9940 - val_loss: 1.9090 - val_categorical_accuracy: 0.6016 - lr: 0.0100\n",
      "Epoch 16/30\n",
      "21/21 [==============================] - ETA: 0s - loss: 0.9935 - categorical_accuracy: 0.9911\n",
      "Epoch 16: saving model to model_init_2022-03-1008_37_12.937567/model-00016-0.99352-0.99107-1.88749-0.62500.h5\n",
      "21/21 [==============================] - 105s 5s/step - loss: 0.9935 - categorical_accuracy: 0.9911 - val_loss: 1.8875 - val_categorical_accuracy: 0.6250 - lr: 0.0100\n",
      "Epoch 17/30\n",
      "21/21 [==============================] - ETA: 0s - loss: 0.9604 - categorical_accuracy: 0.9955\n",
      "Epoch 17: saving model to model_init_2022-03-1008_37_12.937567/model-00017-0.96038-0.99554-1.76875-0.72656.h5\n",
      "21/21 [==============================] - 103s 5s/step - loss: 0.9604 - categorical_accuracy: 0.9955 - val_loss: 1.7688 - val_categorical_accuracy: 0.7266 - lr: 0.0100\n",
      "Epoch 18/30\n",
      "21/21 [==============================] - ETA: 0s - loss: 0.9516 - categorical_accuracy: 0.9970\n",
      "Epoch 18: saving model to model_init_2022-03-1008_37_12.937567/model-00018-0.95156-0.99702-1.93563-0.67188.h5\n",
      "21/21 [==============================] - 105s 5s/step - loss: 0.9516 - categorical_accuracy: 0.9970 - val_loss: 1.9356 - val_categorical_accuracy: 0.6719 - lr: 0.0100\n",
      "Epoch 19/30\n",
      "21/21 [==============================] - ETA: 0s - loss: 0.9423 - categorical_accuracy: 0.9970\n",
      "Epoch 19: saving model to model_init_2022-03-1008_37_12.937567/model-00019-0.94227-0.99702-2.01981-0.60938.h5\n",
      "21/21 [==============================] - 105s 5s/step - loss: 0.9423 - categorical_accuracy: 0.9970 - val_loss: 2.0198 - val_categorical_accuracy: 0.6094 - lr: 0.0100\n",
      "Epoch 20/30\n",
      "21/21 [==============================] - ETA: 0s - loss: 0.9396 - categorical_accuracy: 0.9970\n",
      "Epoch 20: saving model to model_init_2022-03-1008_37_12.937567/model-00020-0.93959-0.99702-1.76036-0.70312.h5\n",
      "21/21 [==============================] - 102s 5s/step - loss: 0.9396 - categorical_accuracy: 0.9970 - val_loss: 1.7604 - val_categorical_accuracy: 0.7031 - lr: 0.0100\n",
      "Epoch 21/30\n",
      "21/21 [==============================] - ETA: 0s - loss: 0.9148 - categorical_accuracy: 0.9985\n",
      "Epoch 21: saving model to model_init_2022-03-1008_37_12.937567/model-00021-0.91477-0.99851-1.96631-0.63281.h5\n",
      "21/21 [==============================] - 104s 5s/step - loss: 0.9148 - categorical_accuracy: 0.9985 - val_loss: 1.9663 - val_categorical_accuracy: 0.6328 - lr: 0.0100\n",
      "Epoch 22/30\n",
      "21/21 [==============================] - ETA: 0s - loss: 0.9147 - categorical_accuracy: 0.9970\n",
      "Epoch 22: saving model to model_init_2022-03-1008_37_12.937567/model-00022-0.91467-0.99702-1.79417-0.71094.h5\n",
      "21/21 [==============================] - 100s 5s/step - loss: 0.9147 - categorical_accuracy: 0.9970 - val_loss: 1.7942 - val_categorical_accuracy: 0.7109 - lr: 0.0100\n",
      "Epoch 23/30\n",
      "21/21 [==============================] - ETA: 0s - loss: 0.9026 - categorical_accuracy: 0.9955\n",
      "Epoch 23: saving model to model_init_2022-03-1008_37_12.937567/model-00023-0.90255-0.99554-1.69898-0.71094.h5\n",
      "21/21 [==============================] - 103s 5s/step - loss: 0.9026 - categorical_accuracy: 0.9955 - val_loss: 1.6990 - val_categorical_accuracy: 0.7109 - lr: 0.0100\n",
      "Epoch 24/30\n",
      "21/21 [==============================] - ETA: 0s - loss: 0.8885 - categorical_accuracy: 1.0000\n",
      "Epoch 24: saving model to model_init_2022-03-1008_37_12.937567/model-00024-0.88848-1.00000-1.72507-0.75000.h5\n",
      "21/21 [==============================] - 104s 5s/step - loss: 0.8885 - categorical_accuracy: 1.0000 - val_loss: 1.7251 - val_categorical_accuracy: 0.7500 - lr: 0.0100\n",
      "Epoch 25/30\n",
      "21/21 [==============================] - ETA: 0s - loss: 0.8786 - categorical_accuracy: 1.0000\n",
      "Epoch 25: saving model to model_init_2022-03-1008_37_12.937567/model-00025-0.87856-1.00000-1.69261-0.72656.h5\n",
      "21/21 [==============================] - 102s 5s/step - loss: 0.8786 - categorical_accuracy: 1.0000 - val_loss: 1.6926 - val_categorical_accuracy: 0.7266 - lr: 0.0100\n",
      "Epoch 26/30\n",
      "21/21 [==============================] - ETA: 0s - loss: 0.8692 - categorical_accuracy: 1.0000\n",
      "Epoch 26: saving model to model_init_2022-03-1008_37_12.937567/model-00026-0.86921-1.00000-1.85528-0.64844.h5\n",
      "21/21 [==============================] - 104s 5s/step - loss: 0.8692 - categorical_accuracy: 1.0000 - val_loss: 1.8553 - val_categorical_accuracy: 0.6484 - lr: 0.0100\n",
      "Epoch 27/30\n",
      "21/21 [==============================] - ETA: 0s - loss: 0.8601 - categorical_accuracy: 1.0000\n",
      "Epoch 27: saving model to model_init_2022-03-1008_37_12.937567/model-00027-0.86012-1.00000-1.85830-0.64844.h5\n",
      "21/21 [==============================] - 105s 5s/step - loss: 0.8601 - categorical_accuracy: 1.0000 - val_loss: 1.8583 - val_categorical_accuracy: 0.6484 - lr: 0.0100\n",
      "Epoch 28/30\n",
      "21/21 [==============================] - ETA: 0s - loss: 0.8582 - categorical_accuracy: 1.0000\n",
      "Epoch 28: saving model to model_init_2022-03-1008_37_12.937567/model-00028-0.85817-1.00000-1.74314-0.68750.h5\n",
      "21/21 [==============================] - 104s 5s/step - loss: 0.8582 - categorical_accuracy: 1.0000 - val_loss: 1.7431 - val_categorical_accuracy: 0.6875 - lr: 0.0100\n",
      "Epoch 29/30\n",
      "21/21 [==============================] - ETA: 0s - loss: 0.8510 - categorical_accuracy: 0.9985\n",
      "Epoch 29: saving model to model_init_2022-03-1008_37_12.937567/model-00029-0.85096-0.99851-1.93426-0.63281.h5\n",
      "21/21 [==============================] - 101s 5s/step - loss: 0.8510 - categorical_accuracy: 0.9985 - val_loss: 1.9343 - val_categorical_accuracy: 0.6328 - lr: 0.0100\n",
      "Epoch 30/30\n",
      "21/21 [==============================] - ETA: 0s - loss: 0.8389 - categorical_accuracy: 1.0000\n",
      "Epoch 30: saving model to model_init_2022-03-1008_37_12.937567/model-00030-0.83892-1.00000-1.79008-0.71875.h5\n",
      "21/21 [==============================] - 105s 5s/step - loss: 0.8389 - categorical_accuracy: 1.0000 - val_loss: 1.7901 - val_categorical_accuracy: 0.7188 - lr: 0.0100\n"
     ]
    },
    {
     "data": {
      "image/png": "[encoded data removed]",
      "text/plain": [
       "<Figure size 1080x288 with 2 Axes>"
      ]
     },
     "metadata": {
      "needs_background": "light"
     },
     "output_type": "display_data"
    }
   ],
   "source": [
    "compileandbuildmodel(model)"
   ]
  },
  {
   "cell_type": "markdown",
   "metadata": {
    "id": "rS3HLaw-x-go"
   },
   "source": [
    "### Increasing dropout as model is overfitting"
   ]
  },
  {
   "cell_type": "code",
   "execution_count": 31,
   "metadata": {
    "id": "RmxIBBBJuuSW"
   },
   "outputs": [],
   "source": [
    "model = Sequential()\n",
    "\n",
    "model.add(TimeDistributed(Conv2D(16, (2, 2), padding='same'),\n",
    "                 input_shape=(15,120,120,3)))\n",
    "model.add(Activation('relu'))\n",
    "model.add(BatchNormalization())\n",
    "model.add(TimeDistributed(Conv2D(32, (2, 2))))\n",
    "model.add(Activation('relu'))\n",
    "model.add(BatchNormalization())\n",
    "model.add(TimeDistributed(MaxPooling2D(pool_size=(2, 2))))\n",
    "model.add(Dropout(0.2))\n",
    "\n",
    "model.add(TimeDistributed(Conv2D(64, (2, 2), padding='same')))\n",
    "model.add(Activation('relu'))\n",
    "model.add(BatchNormalization())\n",
    "model.add(TimeDistributed(Conv2D(128, (2, 2), padding='same')))\n",
    "model.add(Activation('relu'))\n",
    "model.add(BatchNormalization())\n",
    "model.add(TimeDistributed(MaxPooling2D(pool_size=(2, 2))))\n",
    "model.add(Dropout(0.3))\n",
    "\n",
    "model.add(TimeDistributed(Flatten()))\n",
    "model.add(LSTM(256, return_sequences=False, dropout=0.5))\n",
    "model.add(Dense(64,kernel_regularizer=l2(0.01)))\n",
    "model.add(Activation('relu'))\n",
    "model.add(Dropout(0.4))\n",
    "model.add(Dense(5))\n",
    "model.add(Activation('softmax'))"
   ]
  },
  {
   "cell_type": "code",
   "execution_count": 32,
   "metadata": {
    "colab": {
     "base_uri": "https://localhost:8080/",
     "height": 1000
    },
    "id": "Wpiw807Ku4eh",
    "outputId": "4e2c789e-b75f-473a-931a-871e16d606c1"
   },
   "outputs": [
    {
     "name": "stdout",
     "output_type": "stream",
     "text": [
      "Model: \"sequential_3\"\n",
      "_________________________________________________________________\n",
      " Layer (type)                Output Shape              Param #   \n",
      "=================================================================\n",
      " time_distributed_21 (TimeDi  (None, 15, 120, 120, 16)  208      \n",
      " stributed)                                                      \n",
      "                                                                 \n",
      " activation_18 (Activation)  (None, 15, 120, 120, 16)  0         \n",
      "                                                                 \n",
      " batch_normalization_12 (Bat  (None, 15, 120, 120, 16)  64       \n",
      " chNormalization)                                                \n",
      "                                                                 \n",
      " time_distributed_22 (TimeDi  (None, 15, 119, 119, 32)  2080     \n",
      " stributed)                                                      \n",
      "                                                                 \n",
      " activation_19 (Activation)  (None, 15, 119, 119, 32)  0         \n",
      "                                                                 \n",
      " batch_normalization_13 (Bat  (None, 15, 119, 119, 32)  128      \n",
      " chNormalization)                                                \n",
      "                                                                 \n",
      " time_distributed_23 (TimeDi  (None, 15, 59, 59, 32)   0         \n",
      " stributed)                                                      \n",
      "                                                                 \n",
      " dropout_9 (Dropout)         (None, 15, 59, 59, 32)    0         \n",
      "                                                                 \n",
      " time_distributed_24 (TimeDi  (None, 15, 59, 59, 64)   8256      \n",
      " stributed)                                                      \n",
      "                                                                 \n",
      " activation_20 (Activation)  (None, 15, 59, 59, 64)    0         \n",
      "                                                                 \n",
      " batch_normalization_14 (Bat  (None, 15, 59, 59, 64)   256       \n",
      " chNormalization)                                                \n",
      "                                                                 \n",
      " time_distributed_25 (TimeDi  (None, 15, 59, 59, 128)  32896     \n",
      " stributed)                                                      \n",
      "                                                                 \n",
      " activation_21 (Activation)  (None, 15, 59, 59, 128)   0         \n",
      "                                                                 \n",
      " batch_normalization_15 (Bat  (None, 15, 59, 59, 128)  512       \n",
      " chNormalization)                                                \n",
      "                                                                 \n",
      " time_distributed_26 (TimeDi  (None, 15, 29, 29, 128)  0         \n",
      " stributed)                                                      \n",
      "                                                                 \n",
      " dropout_10 (Dropout)        (None, 15, 29, 29, 128)   0         \n",
      "                                                                 \n",
      " time_distributed_27 (TimeDi  (None, 15, 107648)       0         \n",
      " stributed)                                                      \n",
      "                                                                 \n",
      " lstm_3 (LSTM)               (None, 256)               110494720 \n",
      "                                                                 \n",
      " dense_6 (Dense)             (None, 64)                16448     \n",
      "                                                                 \n",
      " activation_22 (Activation)  (None, 64)                0         \n",
      "                                                                 \n",
      " dropout_11 (Dropout)        (None, 64)                0         \n",
      "                                                                 \n",
      " dense_7 (Dense)             (None, 5)                 325       \n",
      "                                                                 \n",
      " activation_23 (Activation)  (None, 5)                 0         \n",
      "                                                                 \n",
      "=================================================================\n",
      "Total params: 110,555,893\n",
      "Trainable params: 110,555,413\n",
      "Non-trainable params: 480\n",
      "_________________________________________________________________\n",
      "None\n",
      "WARNING:tensorflow:`period` argument is deprecated. Please use `save_freq` to specify the frequency in number of batches seen.\n",
      "Source path =  /content/drive/MyDrive/Project_data/train ; batch size = 32\n"
     ]
    },
    {
     "name": "stderr",
     "output_type": "stream",
     "text": [
      "/usr/local/lib/python3.7/dist-packages/ipykernel_launcher.py:35: UserWarning: `Model.fit_generator` is deprecated and will be removed in a future version. Please use `Model.fit`, which supports generators.\n"
     ]
    },
    {
     "name": "stdout",
     "output_type": "stream",
     "text": [
      "Epoch 1/30\n",
      "21/21 [==============================] - ETA: 0s - loss: 2.5075 - categorical_accuracy: 0.3423Source path =  /content/drive/MyDrive/Project_data/val ; batch size = 32\n",
      "\n",
      "Epoch 1: saving model to model_init_2022-03-1008_37_12.937567/model-00001-2.50750-0.34226-2.79606-0.20312.h5\n",
      "21/21 [==============================] - 106s 5s/step - loss: 2.5075 - categorical_accuracy: 0.3423 - val_loss: 2.7961 - val_categorical_accuracy: 0.2031 - lr: 0.0100\n",
      "Epoch 2/30\n",
      "21/21 [==============================] - ETA: 0s - loss: 2.2253 - categorical_accuracy: 0.4940\n",
      "Epoch 2: saving model to model_init_2022-03-1008_37_12.937567/model-00002-2.22535-0.49405-2.65167-0.35156.h5\n",
      "21/21 [==============================] - 103s 5s/step - loss: 2.2253 - categorical_accuracy: 0.4940 - val_loss: 2.6517 - val_categorical_accuracy: 0.3516 - lr: 0.0100\n",
      "Epoch 3/30\n",
      "21/21 [==============================] - ETA: 0s - loss: 2.0395 - categorical_accuracy: 0.5818\n",
      "Epoch 3: saving model to model_init_2022-03-1008_37_12.937567/model-00003-2.03950-0.58185-2.49314-0.35156.h5\n",
      "21/21 [==============================] - 104s 5s/step - loss: 2.0395 - categorical_accuracy: 0.5818 - val_loss: 2.4931 - val_categorical_accuracy: 0.3516 - lr: 0.0100\n",
      "Epoch 4/30\n",
      "21/21 [==============================] - ETA: 0s - loss: 1.9033 - categorical_accuracy: 0.6533\n",
      "Epoch 4: saving model to model_init_2022-03-1008_37_12.937567/model-00004-1.90327-0.65327-2.43714-0.44531.h5\n",
      "21/21 [==============================] - 102s 5s/step - loss: 1.9033 - categorical_accuracy: 0.6533 - val_loss: 2.4371 - val_categorical_accuracy: 0.4453 - lr: 0.0100\n",
      "Epoch 5/30\n",
      "21/21 [==============================] - ETA: 0s - loss: 1.8115 - categorical_accuracy: 0.7247\n",
      "Epoch 5: saving model to model_init_2022-03-1008_37_12.937567/model-00005-1.81153-0.72470-2.24125-0.44531.h5\n",
      "21/21 [==============================] - 104s 5s/step - loss: 1.8115 - categorical_accuracy: 0.7247 - val_loss: 2.2412 - val_categorical_accuracy: 0.4453 - lr: 0.0100\n",
      "Epoch 6/30\n",
      "21/21 [==============================] - ETA: 0s - loss: 1.6534 - categorical_accuracy: 0.7545\n",
      "Epoch 6: saving model to model_init_2022-03-1008_37_12.937567/model-00006-1.65336-0.75446-2.12656-0.50000.h5\n",
      "21/21 [==============================] - 103s 5s/step - loss: 1.6534 - categorical_accuracy: 0.7545 - val_loss: 2.1266 - val_categorical_accuracy: 0.5000 - lr: 0.0100\n",
      "Epoch 7/30\n",
      "21/21 [==============================] - ETA: 0s - loss: 1.5601 - categorical_accuracy: 0.8036\n",
      "Epoch 7: saving model to model_init_2022-03-1008_37_12.937567/model-00007-1.56012-0.80357-2.00678-0.57031.h5\n",
      "21/21 [==============================] - 102s 5s/step - loss: 1.5601 - categorical_accuracy: 0.8036 - val_loss: 2.0068 - val_categorical_accuracy: 0.5703 - lr: 0.0100\n",
      "Epoch 8/30\n",
      "21/21 [==============================] - ETA: 0s - loss: 1.4574 - categorical_accuracy: 0.8185\n",
      "Epoch 8: saving model to model_init_2022-03-1008_37_12.937567/model-00008-1.45741-0.81845-1.92368-0.57812.h5\n",
      "21/21 [==============================] - 103s 5s/step - loss: 1.4574 - categorical_accuracy: 0.8185 - val_loss: 1.9237 - val_categorical_accuracy: 0.5781 - lr: 0.0100\n",
      "Epoch 9/30\n",
      "21/21 [==============================] - ETA: 0s - loss: 1.4042 - categorical_accuracy: 0.8497\n",
      "Epoch 9: saving model to model_init_2022-03-1008_37_12.937567/model-00009-1.40423-0.84970-1.99223-0.56250.h5\n",
      "21/21 [==============================] - 101s 5s/step - loss: 1.4042 - categorical_accuracy: 0.8497 - val_loss: 1.9922 - val_categorical_accuracy: 0.5625 - lr: 0.0100\n",
      "Epoch 10/30\n",
      "21/21 [==============================] - ETA: 0s - loss: 1.3059 - categorical_accuracy: 0.9018\n",
      "Epoch 10: saving model to model_init_2022-03-1008_37_12.937567/model-00010-1.30593-0.90179-1.97639-0.55469.h5\n",
      "21/21 [==============================] - 102s 5s/step - loss: 1.3059 - categorical_accuracy: 0.9018 - val_loss: 1.9764 - val_categorical_accuracy: 0.5547 - lr: 0.0100\n",
      "Epoch 11/30\n",
      "21/21 [==============================] - ETA: 0s - loss: 1.2350 - categorical_accuracy: 0.9271\n",
      "Epoch 11: saving model to model_init_2022-03-1008_37_12.937567/model-00011-1.23496-0.92708-1.76725-0.60938.h5\n",
      "21/21 [==============================] - 101s 5s/step - loss: 1.2350 - categorical_accuracy: 0.9271 - val_loss: 1.7673 - val_categorical_accuracy: 0.6094 - lr: 0.0100\n",
      "Epoch 12/30\n",
      "21/21 [==============================] - ETA: 0s - loss: 1.2446 - categorical_accuracy: 0.9137\n",
      "Epoch 12: saving model to model_init_2022-03-1008_37_12.937567/model-00012-1.24463-0.91369-1.97802-0.50000.h5\n",
      "21/21 [==============================] - 101s 5s/step - loss: 1.2446 - categorical_accuracy: 0.9137 - val_loss: 1.9780 - val_categorical_accuracy: 0.5000 - lr: 0.0100\n",
      "Epoch 13/30\n",
      "21/21 [==============================] - ETA: 0s - loss: 1.1607 - categorical_accuracy: 0.9494\n",
      "Epoch 13: saving model to model_init_2022-03-1008_37_12.937567/model-00013-1.16072-0.94940-1.80758-0.67188.h5\n",
      "21/21 [==============================] - 103s 5s/step - loss: 1.1607 - categorical_accuracy: 0.9494 - val_loss: 1.8076 - val_categorical_accuracy: 0.6719 - lr: 0.0100\n",
      "Epoch 14/30\n",
      "21/21 [==============================] - ETA: 0s - loss: 1.1271 - categorical_accuracy: 0.9554\n",
      "Epoch 14: saving model to model_init_2022-03-1008_37_12.937567/model-00014-1.12712-0.95536-1.90793-0.60156.h5\n",
      "21/21 [==============================] - 102s 5s/step - loss: 1.1271 - categorical_accuracy: 0.9554 - val_loss: 1.9079 - val_categorical_accuracy: 0.6016 - lr: 0.0100\n",
      "Epoch 15/30\n",
      "21/21 [==============================] - ETA: 0s - loss: 1.0758 - categorical_accuracy: 0.9688\n",
      "Epoch 15: saving model to model_init_2022-03-1008_37_12.937567/model-00015-1.07582-0.96875-1.82334-0.67188.h5\n",
      "21/21 [==============================] - 99s 5s/step - loss: 1.0758 - categorical_accuracy: 0.9688 - val_loss: 1.8233 - val_categorical_accuracy: 0.6719 - lr: 0.0100\n",
      "Epoch 16/30\n",
      "21/21 [==============================] - ETA: 0s - loss: 1.0397 - categorical_accuracy: 0.9821\n",
      "Epoch 16: saving model to model_init_2022-03-1008_37_12.937567/model-00016-1.03975-0.98214-1.88546-0.66406.h5\n",
      "21/21 [==============================] - 105s 5s/step - loss: 1.0397 - categorical_accuracy: 0.9821 - val_loss: 1.8855 - val_categorical_accuracy: 0.6641 - lr: 0.0100\n",
      "Epoch 17/30\n",
      "21/21 [==============================] - ETA: 0s - loss: 1.0246 - categorical_accuracy: 0.9777\n",
      "Epoch 17: saving model to model_init_2022-03-1008_37_12.937567/model-00017-1.02458-0.97768-1.89845-0.64844.h5\n",
      "21/21 [==============================] - 102s 5s/step - loss: 1.0246 - categorical_accuracy: 0.9777 - val_loss: 1.8985 - val_categorical_accuracy: 0.6484 - lr: 0.0100\n",
      "Epoch 18/30\n",
      "21/21 [==============================] - ETA: 0s - loss: 1.0014 - categorical_accuracy: 0.9911\n",
      "Epoch 18: saving model to model_init_2022-03-1008_37_12.937567/model-00018-1.00138-0.99107-1.68384-0.67969.h5\n",
      "21/21 [==============================] - 102s 5s/step - loss: 1.0014 - categorical_accuracy: 0.9911 - val_loss: 1.6838 - val_categorical_accuracy: 0.6797 - lr: 0.0100\n",
      "Epoch 19/30\n",
      "21/21 [==============================] - ETA: 0s - loss: 0.9969 - categorical_accuracy: 0.9836\n",
      "Epoch 19: saving model to model_init_2022-03-1008_37_12.937567/model-00019-0.99694-0.98363-1.76590-0.67969.h5\n",
      "21/21 [==============================] - 100s 5s/step - loss: 0.9969 - categorical_accuracy: 0.9836 - val_loss: 1.7659 - val_categorical_accuracy: 0.6797 - lr: 0.0100\n",
      "Epoch 20/30\n",
      "21/21 [==============================] - ETA: 0s - loss: 0.9731 - categorical_accuracy: 0.9851\n",
      "Epoch 20: saving model to model_init_2022-03-1008_37_12.937567/model-00020-0.97311-0.98512-1.64600-0.67188.h5\n",
      "21/21 [==============================] - 106s 5s/step - loss: 0.9731 - categorical_accuracy: 0.9851 - val_loss: 1.6460 - val_categorical_accuracy: 0.6719 - lr: 0.0100\n",
      "Epoch 21/30\n",
      "21/21 [==============================] - ETA: 0s - loss: 0.9489 - categorical_accuracy: 0.9911\n",
      "Epoch 21: saving model to model_init_2022-03-1008_37_12.937567/model-00021-0.94890-0.99107-1.72136-0.68750.h5\n",
      "21/21 [==============================] - 102s 5s/step - loss: 0.9489 - categorical_accuracy: 0.9911 - val_loss: 1.7214 - val_categorical_accuracy: 0.6875 - lr: 0.0100\n",
      "Epoch 22/30\n",
      "21/21 [==============================] - ETA: 0s - loss: 0.9433 - categorical_accuracy: 0.9866\n",
      "Epoch 22: saving model to model_init_2022-03-1008_37_12.937567/model-00022-0.94327-0.98661-1.83471-0.66406.h5\n",
      "21/21 [==============================] - 102s 5s/step - loss: 0.9433 - categorical_accuracy: 0.9866 - val_loss: 1.8347 - val_categorical_accuracy: 0.6641 - lr: 0.0100\n",
      "Epoch 23/30\n",
      "21/21 [==============================] - ETA: 0s - loss: 0.9266 - categorical_accuracy: 0.9940\n",
      "Epoch 23: saving model to model_init_2022-03-1008_37_12.937567/model-00023-0.92657-0.99405-1.68162-0.70312.h5\n",
      "21/21 [==============================] - 105s 5s/step - loss: 0.9266 - categorical_accuracy: 0.9940 - val_loss: 1.6816 - val_categorical_accuracy: 0.7031 - lr: 0.0100\n",
      "Epoch 24/30\n",
      "21/21 [==============================] - ETA: 0s - loss: 0.9148 - categorical_accuracy: 0.9926\n",
      "Epoch 24: saving model to model_init_2022-03-1008_37_12.937567/model-00024-0.91477-0.99256-1.67550-0.70312.h5\n",
      "21/21 [==============================] - 105s 5s/step - loss: 0.9148 - categorical_accuracy: 0.9926 - val_loss: 1.6755 - val_categorical_accuracy: 0.7031 - lr: 0.0100\n",
      "Epoch 25/30\n",
      "21/21 [==============================] - ETA: 0s - loss: 0.9081 - categorical_accuracy: 0.9896\n",
      "Epoch 25: saving model to model_init_2022-03-1008_37_12.937567/model-00025-0.90811-0.98958-1.66440-0.69531.h5\n",
      "21/21 [==============================] - 101s 5s/step - loss: 0.9081 - categorical_accuracy: 0.9896 - val_loss: 1.6644 - val_categorical_accuracy: 0.6953 - lr: 0.0100\n",
      "Epoch 26/30\n",
      "21/21 [==============================] - ETA: 0s - loss: 0.8872 - categorical_accuracy: 0.9940\n",
      "Epoch 26: saving model to model_init_2022-03-1008_37_12.937567/model-00026-0.88718-0.99405-1.70583-0.73438.h5\n",
      "21/21 [==============================] - 99s 5s/step - loss: 0.8872 - categorical_accuracy: 0.9940 - val_loss: 1.7058 - val_categorical_accuracy: 0.7344 - lr: 0.0100\n",
      "Epoch 27/30\n",
      "21/21 [==============================] - ETA: 0s - loss: 0.8744 - categorical_accuracy: 0.9970\n",
      "Epoch 27: saving model to model_init_2022-03-1008_37_12.937567/model-00027-0.87436-0.99702-1.74531-0.69531.h5\n",
      "21/21 [==============================] - 100s 5s/step - loss: 0.8744 - categorical_accuracy: 0.9970 - val_loss: 1.7453 - val_categorical_accuracy: 0.6953 - lr: 0.0100\n",
      "Epoch 28/30\n",
      "21/21 [==============================] - ETA: 0s - loss: 0.8816 - categorical_accuracy: 0.9940\n",
      "Epoch 28: saving model to model_init_2022-03-1008_37_12.937567/model-00028-0.88156-0.99405-1.66210-0.62500.h5\n",
      "21/21 [==============================] - 101s 5s/step - loss: 0.8816 - categorical_accuracy: 0.9940 - val_loss: 1.6621 - val_categorical_accuracy: 0.6250 - lr: 0.0100\n",
      "Epoch 29/30\n",
      "21/21 [==============================] - ETA: 0s - loss: 0.8700 - categorical_accuracy: 0.9985\n",
      "Epoch 29: saving model to model_init_2022-03-1008_37_12.937567/model-00029-0.87003-0.99851-1.89047-0.63281.h5\n",
      "21/21 [==============================] - 104s 5s/step - loss: 0.8700 - categorical_accuracy: 0.9985 - val_loss: 1.8905 - val_categorical_accuracy: 0.6328 - lr: 0.0100\n",
      "Epoch 30/30\n",
      "21/21 [==============================] - ETA: 0s - loss: 0.8556 - categorical_accuracy: 0.9985\n",
      "Epoch 30: saving model to model_init_2022-03-1008_37_12.937567/model-00030-0.85557-0.99851-1.64792-0.70312.h5\n",
      "21/21 [==============================] - 103s 5s/step - loss: 0.8556 - categorical_accuracy: 0.9985 - val_loss: 1.6479 - val_categorical_accuracy: 0.7031 - lr: 0.0100\n"
     ]
    },
    {
     "data": {
      "image/png": "[encoded data removed]",
      "text/plain": [
       "<Figure size 1080x288 with 2 Axes>"
      ]
     },
     "metadata": {
      "needs_background": "light"
     },
     "output_type": "display_data"
    }
   ],
   "source": [
    "compileandbuildmodel(model)"
   ]
  },
  {
   "cell_type": "markdown",
   "metadata": {
    "id": "kaOQglPot9Df"
   },
   "source": [
    "### Reducing number of parameters and changing filter to (3,3)\n"
   ]
  },
  {
   "cell_type": "code",
   "execution_count": 43,
   "metadata": {
    "id": "aqxUIxnTt15H"
   },
   "outputs": [],
   "source": [
    "model = Sequential()\n",
    "\n",
    "model.add(TimeDistributed(Conv2D(16, (3, 3), padding='same'),\n",
    "                 input_shape=(15,120,120,3)))\n",
    "model.add(Activation('relu'))\n",
    "model.add(BatchNormalization())\n",
    "model.add(TimeDistributed(Conv2D(32, (3, 3))))\n",
    "model.add(Activation('relu'))\n",
    "model.add(BatchNormalization())\n",
    "model.add(TimeDistributed(MaxPooling2D(pool_size=(2, 2))))\n",
    "model.add(Dropout(0.2))\n",
    "\n",
    "model.add(TimeDistributed(Conv2D(64, (3, 3), padding='same')))\n",
    "model.add(Activation('relu'))\n",
    "model.add(BatchNormalization())\n",
    "model.add(TimeDistributed(MaxPooling2D(pool_size=(2, 2))))\n",
    "model.add(Dropout(0.3))\n",
    "\n",
    "model.add(TimeDistributed(Flatten()))\n",
    "model.add(LSTM(128, return_sequences=False, dropout=0.5))\n",
    "model.add(Dense(64,kernel_regularizer=l2(0.01)))\n",
    "model.add(Activation('relu'))\n",
    "model.add(Dropout(0.4))\n",
    "model.add(Dense(5))\n",
    "model.add(Activation('softmax'))"
   ]
  },
  {
   "cell_type": "code",
   "execution_count": 44,
   "metadata": {
    "colab": {
     "base_uri": "https://localhost:8080/",
     "height": 1000
    },
    "id": "lTQvXfCfuEVm",
    "outputId": "c1c60e0d-9c4d-44d3-89c7-2b90f52a8a84"
   },
   "outputs": [
    {
     "name": "stdout",
     "output_type": "stream",
     "text": [
      "Model: \"sequential_9\"\n",
      "_________________________________________________________________\n",
      " Layer (type)                Output Shape              Param #   \n",
      "=================================================================\n",
      " time_distributed_36 (TimeDi  (None, 15, 120, 120, 16)  448      \n",
      " stributed)                                                      \n",
      "                                                                 \n",
      " activation_40 (Activation)  (None, 15, 120, 120, 16)  0         \n",
      "                                                                 \n",
      " batch_normalization_30 (Bat  (None, 15, 120, 120, 16)  64       \n",
      " chNormalization)                                                \n",
      "                                                                 \n",
      " time_distributed_37 (TimeDi  (None, 15, 118, 118, 32)  4640     \n",
      " stributed)                                                      \n",
      "                                                                 \n",
      " activation_41 (Activation)  (None, 15, 118, 118, 32)  0         \n",
      "                                                                 \n",
      " batch_normalization_31 (Bat  (None, 15, 118, 118, 32)  128      \n",
      " chNormalization)                                                \n",
      "                                                                 \n",
      " time_distributed_38 (TimeDi  (None, 15, 59, 59, 32)   0         \n",
      " stributed)                                                      \n",
      "                                                                 \n",
      " dropout_22 (Dropout)        (None, 15, 59, 59, 32)    0         \n",
      "                                                                 \n",
      " time_distributed_39 (TimeDi  (None, 15, 59, 59, 64)   18496     \n",
      " stributed)                                                      \n",
      "                                                                 \n",
      " activation_42 (Activation)  (None, 15, 59, 59, 64)    0         \n",
      "                                                                 \n",
      " batch_normalization_32 (Bat  (None, 15, 59, 59, 64)   256       \n",
      " chNormalization)                                                \n",
      "                                                                 \n",
      " time_distributed_40 (TimeDi  (None, 15, 29, 29, 64)   0         \n",
      " stributed)                                                      \n",
      "                                                                 \n",
      " dropout_23 (Dropout)        (None, 15, 29, 29, 64)    0         \n",
      "                                                                 \n",
      " time_distributed_41 (TimeDi  (None, 15, 53824)        0         \n",
      " stributed)                                                      \n",
      "                                                                 \n",
      " lstm_6 (LSTM)               (None, 128)               27623936  \n",
      "                                                                 \n",
      " dense_19 (Dense)            (None, 64)                8256      \n",
      "                                                                 \n",
      " activation_43 (Activation)  (None, 64)                0         \n",
      "                                                                 \n",
      " dropout_24 (Dropout)        (None, 64)                0         \n",
      "                                                                 \n",
      " dense_20 (Dense)            (None, 5)                 325       \n",
      "                                                                 \n",
      " activation_44 (Activation)  (None, 5)                 0         \n",
      "                                                                 \n",
      "=================================================================\n",
      "Total params: 27,656,549\n",
      "Trainable params: 27,656,325\n",
      "Non-trainable params: 224\n",
      "_________________________________________________________________\n",
      "None\n",
      "WARNING:tensorflow:`period` argument is deprecated. Please use `save_freq` to specify the frequency in number of batches seen.\n",
      "Source path =  /content/drive/MyDrive/Project_data/train ; batch size = 32\n"
     ]
    },
    {
     "name": "stderr",
     "output_type": "stream",
     "text": [
      "/usr/local/lib/python3.7/dist-packages/ipykernel_launcher.py:35: UserWarning: `Model.fit_generator` is deprecated and will be removed in a future version. Please use `Model.fit`, which supports generators.\n"
     ]
    },
    {
     "name": "stdout",
     "output_type": "stream",
     "text": [
      "Epoch 1/30\n",
      "21/21 [==============================] - ETA: 0s - loss: 2.3789 - categorical_accuracy: 0.3185Source path =  /content/drive/MyDrive/Project_data/val ; batch size = 32\n",
      "\n",
      "Epoch 1: saving model to model_init_2022-03-1008_37_12.937567/model-00001-2.37885-0.31845-2.60842-0.21875.h5\n",
      "21/21 [==============================] - 107s 5s/step - loss: 2.3789 - categorical_accuracy: 0.3185 - val_loss: 2.6084 - val_categorical_accuracy: 0.2188 - lr: 0.0100\n",
      "Epoch 2/30\n",
      "21/21 [==============================] - ETA: 0s - loss: 2.1855 - categorical_accuracy: 0.4286\n",
      "Epoch 2: saving model to model_init_2022-03-1008_37_12.937567/model-00002-2.18549-0.42857-2.72311-0.17969.h5\n",
      "21/21 [==============================] - 98s 5s/step - loss: 2.1855 - categorical_accuracy: 0.4286 - val_loss: 2.7231 - val_categorical_accuracy: 0.1797 - lr: 0.0100\n",
      "Epoch 3/30\n",
      "21/21 [==============================] - ETA: 0s - loss: 2.0110 - categorical_accuracy: 0.5402\n",
      "Epoch 3: saving model to model_init_2022-03-1008_37_12.937567/model-00003-2.01103-0.54018-2.78218-0.27344.h5\n",
      "21/21 [==============================] - 102s 5s/step - loss: 2.0110 - categorical_accuracy: 0.5402 - val_loss: 2.7822 - val_categorical_accuracy: 0.2734 - lr: 0.0100\n",
      "Epoch 4/30\n",
      "21/21 [==============================] - ETA: 0s - loss: 1.9166 - categorical_accuracy: 0.5595\n",
      "Epoch 4: saving model to model_init_2022-03-1008_37_12.937567/model-00004-1.91660-0.55952-2.74650-0.28906.h5\n",
      "21/21 [==============================] - 102s 5s/step - loss: 1.9166 - categorical_accuracy: 0.5595 - val_loss: 2.7465 - val_categorical_accuracy: 0.2891 - lr: 0.0100\n",
      "Epoch 5/30\n",
      "21/21 [==============================] - ETA: 0s - loss: 1.8404 - categorical_accuracy: 0.6250\n",
      "Epoch 5: saving model to model_init_2022-03-1008_37_12.937567/model-00005-1.84036-0.62500-2.26448-0.43750.h5\n",
      "21/21 [==============================] - 100s 5s/step - loss: 1.8404 - categorical_accuracy: 0.6250 - val_loss: 2.2645 - val_categorical_accuracy: 0.4375 - lr: 0.0100\n",
      "Epoch 6/30\n",
      "21/21 [==============================] - ETA: 0s - loss: 1.7629 - categorical_accuracy: 0.6369\n",
      "Epoch 6: saving model to model_init_2022-03-1008_37_12.937567/model-00006-1.76285-0.63690-2.74422-0.32031.h5\n",
      "21/21 [==============================] - 102s 5s/step - loss: 1.7629 - categorical_accuracy: 0.6369 - val_loss: 2.7442 - val_categorical_accuracy: 0.3203 - lr: 0.0100\n",
      "Epoch 7/30\n",
      "21/21 [==============================] - ETA: 0s - loss: 1.6275 - categorical_accuracy: 0.6935\n",
      "Epoch 7: saving model to model_init_2022-03-1008_37_12.937567/model-00007-1.62750-0.69345-2.08310-0.46094.h5\n",
      "21/21 [==============================] - 103s 5s/step - loss: 1.6275 - categorical_accuracy: 0.6935 - val_loss: 2.0831 - val_categorical_accuracy: 0.4609 - lr: 0.0100\n",
      "Epoch 8/30\n",
      "21/21 [==============================] - ETA: 0s - loss: 1.5201 - categorical_accuracy: 0.7515\n",
      "Epoch 8: saving model to model_init_2022-03-1008_37_12.937567/model-00008-1.52005-0.75149-1.94877-0.51562.h5\n",
      "21/21 [==============================] - 100s 5s/step - loss: 1.5201 - categorical_accuracy: 0.7515 - val_loss: 1.9488 - val_categorical_accuracy: 0.5156 - lr: 0.0100\n",
      "Epoch 9/30\n",
      "21/21 [==============================] - ETA: 0s - loss: 1.4450 - categorical_accuracy: 0.7917\n",
      "Epoch 9: saving model to model_init_2022-03-1008_37_12.937567/model-00009-1.44496-0.79167-1.82036-0.62500.h5\n",
      "21/21 [==============================] - 105s 5s/step - loss: 1.4450 - categorical_accuracy: 0.7917 - val_loss: 1.8204 - val_categorical_accuracy: 0.6250 - lr: 0.0100\n",
      "Epoch 10/30\n",
      "21/21 [==============================] - ETA: 0s - loss: 1.3662 - categorical_accuracy: 0.8304\n",
      "Epoch 10: saving model to model_init_2022-03-1008_37_12.937567/model-00010-1.36623-0.83036-1.79248-0.60938.h5\n",
      "21/21 [==============================] - 102s 5s/step - loss: 1.3662 - categorical_accuracy: 0.8304 - val_loss: 1.7925 - val_categorical_accuracy: 0.6094 - lr: 0.0100\n",
      "Epoch 11/30\n",
      "21/21 [==============================] - ETA: 0s - loss: 1.2910 - categorical_accuracy: 0.8467\n",
      "Epoch 11: saving model to model_init_2022-03-1008_37_12.937567/model-00011-1.29103-0.84673-1.73256-0.64062.h5\n",
      "21/21 [==============================] - 97s 5s/step - loss: 1.2910 - categorical_accuracy: 0.8467 - val_loss: 1.7326 - val_categorical_accuracy: 0.6406 - lr: 0.0100\n",
      "Epoch 12/30\n",
      "21/21 [==============================] - ETA: 0s - loss: 1.2114 - categorical_accuracy: 0.8690\n",
      "Epoch 12: saving model to model_init_2022-03-1008_37_12.937567/model-00012-1.21145-0.86905-1.81143-0.56250.h5\n",
      "21/21 [==============================] - 100s 5s/step - loss: 1.2114 - categorical_accuracy: 0.8690 - val_loss: 1.8114 - val_categorical_accuracy: 0.5625 - lr: 0.0100\n",
      "Epoch 13/30\n",
      "21/21 [==============================] - ETA: 0s - loss: 1.1940 - categorical_accuracy: 0.8884\n",
      "Epoch 13: saving model to model_init_2022-03-1008_37_12.937567/model-00013-1.19397-0.88839-1.81706-0.58594.h5\n",
      "21/21 [==============================] - 98s 5s/step - loss: 1.1940 - categorical_accuracy: 0.8884 - val_loss: 1.8171 - val_categorical_accuracy: 0.5859 - lr: 0.0100\n",
      "Epoch 14/30\n",
      "21/21 [==============================] - ETA: 0s - loss: 1.1538 - categorical_accuracy: 0.8958\n",
      "Epoch 14: saving model to model_init_2022-03-1008_37_12.937567/model-00014-1.15380-0.89583-1.62132-0.66406.h5\n",
      "21/21 [==============================] - 99s 5s/step - loss: 1.1538 - categorical_accuracy: 0.8958 - val_loss: 1.6213 - val_categorical_accuracy: 0.6641 - lr: 0.0100\n",
      "Epoch 15/30\n",
      "21/21 [==============================] - ETA: 0s - loss: 1.0578 - categorical_accuracy: 0.9330\n",
      "Epoch 15: saving model to model_init_2022-03-1008_37_12.937567/model-00015-1.05781-0.93304-1.58602-0.64844.h5\n",
      "21/21 [==============================] - 97s 5s/step - loss: 1.0578 - categorical_accuracy: 0.9330 - val_loss: 1.5860 - val_categorical_accuracy: 0.6484 - lr: 0.0100\n",
      "Epoch 16/30\n",
      "21/21 [==============================] - ETA: 0s - loss: 1.0570 - categorical_accuracy: 0.9330\n",
      "Epoch 16: saving model to model_init_2022-03-1008_37_12.937567/model-00016-1.05703-0.93304-1.81739-0.56250.h5\n",
      "21/21 [==============================] - 95s 5s/step - loss: 1.0570 - categorical_accuracy: 0.9330 - val_loss: 1.8174 - val_categorical_accuracy: 0.5625 - lr: 0.0100\n",
      "Epoch 17/30\n",
      "21/21 [==============================] - ETA: 0s - loss: 1.0073 - categorical_accuracy: 0.9449\n",
      "Epoch 17: saving model to model_init_2022-03-1008_37_12.937567/model-00017-1.00732-0.94494-1.65517-0.64844.h5\n",
      "21/21 [==============================] - 104s 5s/step - loss: 1.0073 - categorical_accuracy: 0.9449 - val_loss: 1.6552 - val_categorical_accuracy: 0.6484 - lr: 0.0100\n",
      "Epoch 18/30\n",
      "21/21 [==============================] - ETA: 0s - loss: 0.9643 - categorical_accuracy: 0.9643\n",
      "Epoch 18: saving model to model_init_2022-03-1008_37_12.937567/model-00018-0.96428-0.96429-1.71233-0.64062.h5\n",
      "21/21 [==============================] - 99s 5s/step - loss: 0.9643 - categorical_accuracy: 0.9643 - val_loss: 1.7123 - val_categorical_accuracy: 0.6406 - lr: 0.0100\n",
      "Epoch 19/30\n",
      "21/21 [==============================] - ETA: 0s - loss: 0.9425 - categorical_accuracy: 0.9658\n",
      "Epoch 19: saving model to model_init_2022-03-1008_37_12.937567/model-00019-0.94253-0.96577-1.77777-0.60938.h5\n",
      "21/21 [==============================] - 96s 5s/step - loss: 0.9425 - categorical_accuracy: 0.9658 - val_loss: 1.7778 - val_categorical_accuracy: 0.6094 - lr: 0.0100\n",
      "Epoch 20/30\n",
      "21/21 [==============================] - ETA: 0s - loss: 0.9238 - categorical_accuracy: 0.9658\n",
      "Epoch 20: saving model to model_init_2022-03-1008_37_12.937567/model-00020-0.92384-0.96577-1.54394-0.65625.h5\n",
      "21/21 [==============================] - 98s 5s/step - loss: 0.9238 - categorical_accuracy: 0.9658 - val_loss: 1.5439 - val_categorical_accuracy: 0.6562 - lr: 0.0100\n",
      "Epoch 21/30\n",
      "21/21 [==============================] - ETA: 0s - loss: 0.8807 - categorical_accuracy: 0.9836\n",
      "Epoch 21: saving model to model_init_2022-03-1008_37_12.937567/model-00021-0.88073-0.98363-1.67952-0.69531.h5\n",
      "21/21 [==============================] - 97s 5s/step - loss: 0.8807 - categorical_accuracy: 0.9836 - val_loss: 1.6795 - val_categorical_accuracy: 0.6953 - lr: 0.0100\n",
      "Epoch 22/30\n",
      "21/21 [==============================] - ETA: 0s - loss: 0.8843 - categorical_accuracy: 0.9673\n",
      "Epoch 22: saving model to model_init_2022-03-1008_37_12.937567/model-00022-0.88428-0.96726-1.68373-0.58594.h5\n",
      "21/21 [==============================] - 100s 5s/step - loss: 0.8843 - categorical_accuracy: 0.9673 - val_loss: 1.6837 - val_categorical_accuracy: 0.5859 - lr: 0.0100\n",
      "Epoch 23/30\n",
      "21/21 [==============================] - ETA: 0s - loss: 0.8672 - categorical_accuracy: 0.9747\n",
      "Epoch 23: saving model to model_init_2022-03-1008_37_12.937567/model-00023-0.86719-0.97470-1.69221-0.60156.h5\n",
      "21/21 [==============================] - 100s 5s/step - loss: 0.8672 - categorical_accuracy: 0.9747 - val_loss: 1.6922 - val_categorical_accuracy: 0.6016 - lr: 0.0100\n",
      "Epoch 24/30\n",
      "21/21 [==============================] - ETA: 0s - loss: 0.8547 - categorical_accuracy: 0.9807\n",
      "Epoch 24: saving model to model_init_2022-03-1008_37_12.937567/model-00024-0.85473-0.98065-1.94332-0.49219.h5\n",
      "21/21 [==============================] - 99s 5s/step - loss: 0.8547 - categorical_accuracy: 0.9807 - val_loss: 1.9433 - val_categorical_accuracy: 0.4922 - lr: 0.0100\n",
      "Epoch 25/30\n",
      "21/21 [==============================] - ETA: 0s - loss: 0.8353 - categorical_accuracy: 0.9836\n",
      "Epoch 25: saving model to model_init_2022-03-1008_37_12.937567/model-00025-0.83527-0.98363-1.58857-0.64844.h5\n",
      "21/21 [==============================] - 100s 5s/step - loss: 0.8353 - categorical_accuracy: 0.9836 - val_loss: 1.5886 - val_categorical_accuracy: 0.6484 - lr: 0.0100\n",
      "Epoch 26/30\n",
      "21/21 [==============================] - ETA: 0s - loss: 0.8141 - categorical_accuracy: 0.9851\n",
      "Epoch 26: saving model to model_init_2022-03-1008_37_12.937567/model-00026-0.81408-0.98512-1.68418-0.62500.h5\n",
      "21/21 [==============================] - 101s 5s/step - loss: 0.8141 - categorical_accuracy: 0.9851 - val_loss: 1.6842 - val_categorical_accuracy: 0.6250 - lr: 0.0100\n",
      "Epoch 27/30\n",
      "21/21 [==============================] - ETA: 0s - loss: 0.8214 - categorical_accuracy: 0.9851\n",
      "Epoch 27: saving model to model_init_2022-03-1008_37_12.937567/model-00027-0.82135-0.98512-1.57203-0.65625.h5\n",
      "21/21 [==============================] - 96s 5s/step - loss: 0.8214 - categorical_accuracy: 0.9851 - val_loss: 1.5720 - val_categorical_accuracy: 0.6562 - lr: 0.0100\n",
      "Epoch 28/30\n",
      "21/21 [==============================] - ETA: 0s - loss: 0.7945 - categorical_accuracy: 0.9866\n",
      "Epoch 28: saving model to model_init_2022-03-1008_37_12.937567/model-00028-0.79448-0.98661-1.59418-0.66406.h5\n",
      "21/21 [==============================] - 100s 5s/step - loss: 0.7945 - categorical_accuracy: 0.9866 - val_loss: 1.5942 - val_categorical_accuracy: 0.6641 - lr: 0.0100\n",
      "Epoch 29/30\n",
      "21/21 [==============================] - ETA: 0s - loss: 0.7901 - categorical_accuracy: 0.9866\n",
      "Epoch 29: saving model to model_init_2022-03-1008_37_12.937567/model-00029-0.79007-0.98661-1.68063-0.64062.h5\n",
      "21/21 [==============================] - 101s 5s/step - loss: 0.7901 - categorical_accuracy: 0.9866 - val_loss: 1.6806 - val_categorical_accuracy: 0.6406 - lr: 0.0100\n",
      "Epoch 30/30\n",
      "21/21 [==============================] - ETA: 0s - loss: 0.7742 - categorical_accuracy: 0.9896\n",
      "Epoch 30: saving model to model_init_2022-03-1008_37_12.937567/model-00030-0.77422-0.98958-1.60371-0.72656.h5\n",
      "21/21 [==============================] - 97s 5s/step - loss: 0.7742 - categorical_accuracy: 0.9896 - val_loss: 1.6037 - val_categorical_accuracy: 0.7266 - lr: 0.0100\n"
     ]
    },
    {
     "data": {
      "image/png": "[encoded data removed]",
      "text/plain": [
       "<Figure size 1080x288 with 2 Axes>"
      ]
     },
     "metadata": {
      "needs_background": "light"
     },
     "output_type": "display_data"
    }
   ],
   "source": [
    "compileandbuildmodel(model)"
   ]
  },
  {
   "cell_type": "markdown",
   "metadata": {
    "id": "l57YGw2T78d1"
   },
   "source": [
    "### Using Transfer Learning"
   ]
  },
  {
   "cell_type": "code",
   "execution_count": 33,
   "metadata": {
    "colab": {
     "base_uri": "https://localhost:8080/"
    },
    "id": "WqGPdKAj78d1",
    "outputId": "c5afe29f-75c7-4e14-971d-cc5e0e0b2e0d"
   },
   "outputs": [
    {
     "name": "stdout",
     "output_type": "stream",
     "text": [
      "WARNING:tensorflow:`input_shape` is undefined or non-square, or `rows` is not in [128, 160, 192, 224]. Weights for input shape (224, 224) will be loaded as the default.\n",
      "Downloading data from https://storage.googleapis.com/tensorflow/keras-applications/mobilenet/mobilenet_1_0_224_tf_no_top.h5\n",
      "17227776/17225924 [==============================] - 0s 0us/step\n",
      "17235968/17225924 [==============================] - 0s 0us/step\n"
     ]
    }
   ],
   "source": [
    "from keras.applications import mobilenet\n",
    "mobilenet_transfer = mobilenet.MobileNet(weights='imagenet', include_top=False)\n",
    "\n",
    "\n",
    "model = Sequential()\n",
    "model.add(TimeDistributed(mobilenet_transfer,input_shape=(15,120,120,3)))\n",
    "        \n",
    "for layer in model.layers:\n",
    "      layer.trainable = False\n",
    "        \n",
    "        \n",
    "model.add(TimeDistributed(Flatten()))\n",
    "model.add(LSTM(256, return_sequences=False, dropout=0.5))\n",
    "model.add(Dense(64,kernel_regularizer=l2(0.01)))\n",
    "model.add(Activation('relu'))\n",
    "model.add(Dropout(0.25))\n",
    "model.add(Dense(5))\n",
    "model.add(Activation('softmax'))"
   ]
  },
  {
   "cell_type": "code",
   "execution_count": 34,
   "metadata": {
    "colab": {
     "base_uri": "https://localhost:8080/",
     "height": 1000
    },
    "id": "jTuSb_TU78d1",
    "outputId": "fc65e4a1-8559-48bf-f03d-b3166059dd76"
   },
   "outputs": [
    {
     "name": "stdout",
     "output_type": "stream",
     "text": [
      "Model: \"sequential_4\"\n",
      "_________________________________________________________________\n",
      " Layer (type)                Output Shape              Param #   \n",
      "=================================================================\n",
      " time_distributed_28 (TimeDi  (None, 15, 3, 3, 1024)   3228864   \n",
      " stributed)                                                      \n",
      "                                                                 \n",
      " time_distributed_29 (TimeDi  (None, 15, 9216)         0         \n",
      " stributed)                                                      \n",
      "                                                                 \n",
      " lstm_4 (LSTM)               (None, 256)               9700352   \n",
      "                                                                 \n",
      " dense_8 (Dense)             (None, 64)                16448     \n",
      "                                                                 \n",
      " activation_24 (Activation)  (None, 64)                0         \n",
      "                                                                 \n",
      " dropout_12 (Dropout)        (None, 64)                0         \n",
      "                                                                 \n",
      " dense_9 (Dense)             (None, 5)                 325       \n",
      "                                                                 \n",
      " activation_25 (Activation)  (None, 5)                 0         \n",
      "                                                                 \n",
      "=================================================================\n",
      "Total params: 12,945,989\n",
      "Trainable params: 9,717,125\n",
      "Non-trainable params: 3,228,864\n",
      "_________________________________________________________________\n",
      "None\n",
      "WARNING:tensorflow:`period` argument is deprecated. Please use `save_freq` to specify the frequency in number of batches seen.\n",
      "Source path =  /content/drive/MyDrive/Project_data/train ; batch size = 32\n"
     ]
    },
    {
     "name": "stderr",
     "output_type": "stream",
     "text": [
      "/usr/local/lib/python3.7/dist-packages/ipykernel_launcher.py:35: UserWarning: `Model.fit_generator` is deprecated and will be removed in a future version. Please use `Model.fit`, which supports generators.\n"
     ]
    },
    {
     "name": "stdout",
     "output_type": "stream",
     "text": [
      "Epoch 1/30\n",
      "21/21 [==============================] - ETA: 0s - loss: 2.6513 - categorical_accuracy: 0.2545Source path =  /content/drive/MyDrive/Project_data/val ; batch size = 32\n",
      "\n",
      "Epoch 1: saving model to model_init_2022-03-1008_37_12.937567/model-00001-2.65125-0.25446-2.55447-0.31250.h5\n",
      "21/21 [==============================] - 101s 5s/step - loss: 2.6513 - categorical_accuracy: 0.2545 - val_loss: 2.5545 - val_categorical_accuracy: 0.3125 - lr: 0.0100\n",
      "Epoch 2/30\n",
      "21/21 [==============================] - ETA: 0s - loss: 2.5448 - categorical_accuracy: 0.2827\n",
      "Epoch 2: saving model to model_init_2022-03-1008_37_12.937567/model-00002-2.54479-0.28274-2.45813-0.36719.h5\n",
      "21/21 [==============================] - 97s 5s/step - loss: 2.5448 - categorical_accuracy: 0.2827 - val_loss: 2.4581 - val_categorical_accuracy: 0.3672 - lr: 0.0100\n",
      "Epoch 3/30\n",
      "21/21 [==============================] - ETA: 0s - loss: 2.4444 - categorical_accuracy: 0.4018\n",
      "Epoch 3: saving model to model_init_2022-03-1008_37_12.937567/model-00003-2.44443-0.40179-2.45790-0.36719.h5\n",
      "21/21 [==============================] - 100s 5s/step - loss: 2.4444 - categorical_accuracy: 0.4018 - val_loss: 2.4579 - val_categorical_accuracy: 0.3672 - lr: 0.0100\n",
      "Epoch 4/30\n",
      "21/21 [==============================] - ETA: 0s - loss: 2.3677 - categorical_accuracy: 0.4286\n",
      "Epoch 4: saving model to model_init_2022-03-1008_37_12.937567/model-00004-2.36770-0.42857-2.42903-0.30469.h5\n",
      "21/21 [==============================] - 102s 5s/step - loss: 2.3677 - categorical_accuracy: 0.4286 - val_loss: 2.4290 - val_categorical_accuracy: 0.3047 - lr: 0.0100\n",
      "Epoch 5/30\n",
      "21/21 [==============================] - ETA: 0s - loss: 2.3019 - categorical_accuracy: 0.4479\n",
      "Epoch 5: saving model to model_init_2022-03-1008_37_12.937567/model-00005-2.30188-0.44792-2.40641-0.36719.h5\n",
      "21/21 [==============================] - 98s 5s/step - loss: 2.3019 - categorical_accuracy: 0.4479 - val_loss: 2.4064 - val_categorical_accuracy: 0.3672 - lr: 0.0100\n",
      "Epoch 6/30\n",
      "21/21 [==============================] - ETA: 0s - loss: 2.2209 - categorical_accuracy: 0.4911\n",
      "Epoch 6: saving model to model_init_2022-03-1008_37_12.937567/model-00006-2.22087-0.49107-2.36280-0.41406.h5\n",
      "21/21 [==============================] - 100s 5s/step - loss: 2.2209 - categorical_accuracy: 0.4911 - val_loss: 2.3628 - val_categorical_accuracy: 0.4141 - lr: 0.0100\n",
      "Epoch 7/30\n",
      "21/21 [==============================] - ETA: 0s - loss: 2.1906 - categorical_accuracy: 0.4866\n",
      "Epoch 7: saving model to model_init_2022-03-1008_37_12.937567/model-00007-2.19062-0.48661-2.24811-0.47656.h5\n",
      "21/21 [==============================] - 99s 5s/step - loss: 2.1906 - categorical_accuracy: 0.4866 - val_loss: 2.2481 - val_categorical_accuracy: 0.4766 - lr: 0.0100\n",
      "Epoch 8/30\n",
      "21/21 [==============================] - ETA: 0s - loss: 2.1228 - categorical_accuracy: 0.5268\n",
      "Epoch 8: saving model to model_init_2022-03-1008_37_12.937567/model-00008-2.12283-0.52679-2.21064-0.45312.h5\n",
      "21/21 [==============================] - 97s 5s/step - loss: 2.1228 - categorical_accuracy: 0.5268 - val_loss: 2.2106 - val_categorical_accuracy: 0.4531 - lr: 0.0100\n",
      "Epoch 9/30\n",
      "21/21 [==============================] - ETA: 0s - loss: 2.0653 - categorical_accuracy: 0.5729\n",
      "Epoch 9: saving model to model_init_2022-03-1008_37_12.937567/model-00009-2.06534-0.57292-2.28292-0.46875.h5\n",
      "21/21 [==============================] - 97s 5s/step - loss: 2.0653 - categorical_accuracy: 0.5729 - val_loss: 2.2829 - val_categorical_accuracy: 0.4688 - lr: 0.0100\n",
      "Epoch 10/30\n",
      "21/21 [==============================] - ETA: 0s - loss: 2.0494 - categorical_accuracy: 0.5417\n",
      "Epoch 10: saving model to model_init_2022-03-1008_37_12.937567/model-00010-2.04939-0.54167-2.16142-0.51562.h5\n",
      "21/21 [==============================] - 95s 5s/step - loss: 2.0494 - categorical_accuracy: 0.5417 - val_loss: 2.1614 - val_categorical_accuracy: 0.5156 - lr: 0.0100\n",
      "Epoch 11/30\n",
      "21/21 [==============================] - ETA: 0s - loss: 2.0172 - categorical_accuracy: 0.5655\n",
      "Epoch 11: saving model to model_init_2022-03-1008_37_12.937567/model-00011-2.01718-0.56548-2.26395-0.42969.h5\n",
      "21/21 [==============================] - 97s 5s/step - loss: 2.0172 - categorical_accuracy: 0.5655 - val_loss: 2.2639 - val_categorical_accuracy: 0.4297 - lr: 0.0100\n",
      "Epoch 12/30\n",
      "21/21 [==============================] - ETA: 0s - loss: 1.9630 - categorical_accuracy: 0.6220\n",
      "Epoch 12: saving model to model_init_2022-03-1008_37_12.937567/model-00012-1.96300-0.62202-2.20264-0.46094.h5\n",
      "21/21 [==============================] - 96s 5s/step - loss: 1.9630 - categorical_accuracy: 0.6220 - val_loss: 2.2026 - val_categorical_accuracy: 0.4609 - lr: 0.0100\n",
      "Epoch 13/30\n",
      "21/21 [==============================] - ETA: 0s - loss: 1.8894 - categorical_accuracy: 0.6310\n",
      "Epoch 13: saving model to model_init_2022-03-1008_37_12.937567/model-00013-1.88942-0.63095-2.43759-0.32812.h5\n",
      "21/21 [==============================] - 95s 5s/step - loss: 1.8894 - categorical_accuracy: 0.6310 - val_loss: 2.4376 - val_categorical_accuracy: 0.3281 - lr: 0.0100\n",
      "Epoch 14/30\n",
      "21/21 [==============================] - ETA: 0s - loss: 1.8767 - categorical_accuracy: 0.6339\n",
      "Epoch 14: saving model to model_init_2022-03-1008_37_12.937567/model-00014-1.87670-0.63393-2.18692-0.50781.h5\n",
      "21/21 [==============================] - 96s 5s/step - loss: 1.8767 - categorical_accuracy: 0.6339 - val_loss: 2.1869 - val_categorical_accuracy: 0.5078 - lr: 0.0100\n",
      "Epoch 15/30\n",
      "21/21 [==============================] - ETA: 0s - loss: 1.8396 - categorical_accuracy: 0.6443\n",
      "Epoch 15: saving model to model_init_2022-03-1008_37_12.937567/model-00015-1.83961-0.64435-2.10598-0.53906.h5\n",
      "21/21 [==============================] - 100s 5s/step - loss: 1.8396 - categorical_accuracy: 0.6443 - val_loss: 2.1060 - val_categorical_accuracy: 0.5391 - lr: 0.0100\n",
      "Epoch 16/30\n",
      "21/21 [==============================] - ETA: 0s - loss: 1.7998 - categorical_accuracy: 0.6622\n",
      "Epoch 16: saving model to model_init_2022-03-1008_37_12.937567/model-00016-1.79981-0.66220-2.30892-0.38281.h5\n",
      "21/21 [==============================] - 99s 5s/step - loss: 1.7998 - categorical_accuracy: 0.6622 - val_loss: 2.3089 - val_categorical_accuracy: 0.3828 - lr: 0.0100\n",
      "Epoch 17/30\n",
      "21/21 [==============================] - ETA: 0s - loss: 1.7455 - categorical_accuracy: 0.6815\n",
      "Epoch 17: saving model to model_init_2022-03-1008_37_12.937567/model-00017-1.74550-0.68155-1.98719-0.57812.h5\n",
      "21/21 [==============================] - 97s 5s/step - loss: 1.7455 - categorical_accuracy: 0.6815 - val_loss: 1.9872 - val_categorical_accuracy: 0.5781 - lr: 0.0100\n",
      "Epoch 18/30\n",
      "21/21 [==============================] - ETA: 0s - loss: 1.6801 - categorical_accuracy: 0.7143\n",
      "Epoch 18: saving model to model_init_2022-03-1008_37_12.937567/model-00018-1.68010-0.71429-1.94895-0.63281.h5\n",
      "21/21 [==============================] - 92s 5s/step - loss: 1.6801 - categorical_accuracy: 0.7143 - val_loss: 1.9489 - val_categorical_accuracy: 0.6328 - lr: 0.0100\n",
      "Epoch 19/30\n",
      "21/21 [==============================] - ETA: 0s - loss: 1.6158 - categorical_accuracy: 0.7351\n",
      "Epoch 19: saving model to model_init_2022-03-1008_37_12.937567/model-00019-1.61582-0.73512-2.06392-0.57031.h5\n",
      "21/21 [==============================] - 98s 5s/step - loss: 1.6158 - categorical_accuracy: 0.7351 - val_loss: 2.0639 - val_categorical_accuracy: 0.5703 - lr: 0.0100\n",
      "Epoch 20/30\n",
      "21/21 [==============================] - ETA: 0s - loss: 1.6019 - categorical_accuracy: 0.7351\n",
      "Epoch 20: saving model to model_init_2022-03-1008_37_12.937567/model-00020-1.60189-0.73512-2.10420-0.53125.h5\n",
      "21/21 [==============================] - 98s 5s/step - loss: 1.6019 - categorical_accuracy: 0.7351 - val_loss: 2.1042 - val_categorical_accuracy: 0.5312 - lr: 0.0100\n",
      "Epoch 21/30\n",
      "21/21 [==============================] - ETA: 0s - loss: 1.6319 - categorical_accuracy: 0.7068\n",
      "Epoch 21: saving model to model_init_2022-03-1008_37_12.937567/model-00021-1.63195-0.70685-1.79215-0.63281.h5\n",
      "21/21 [==============================] - 95s 5s/step - loss: 1.6319 - categorical_accuracy: 0.7068 - val_loss: 1.7922 - val_categorical_accuracy: 0.6328 - lr: 0.0100\n",
      "Epoch 22/30\n",
      "21/21 [==============================] - ETA: 0s - loss: 1.4829 - categorical_accuracy: 0.7887\n",
      "Epoch 22: saving model to model_init_2022-03-1008_37_12.937567/model-00022-1.48286-0.78869-2.04754-0.57812.h5\n",
      "21/21 [==============================] - 96s 5s/step - loss: 1.4829 - categorical_accuracy: 0.7887 - val_loss: 2.0475 - val_categorical_accuracy: 0.5781 - lr: 0.0100\n",
      "Epoch 23/30\n",
      "21/21 [==============================] - ETA: 0s - loss: 1.4929 - categorical_accuracy: 0.7723\n",
      "Epoch 23: saving model to model_init_2022-03-1008_37_12.937567/model-00023-1.49293-0.77232-2.17795-0.50781.h5\n",
      "21/21 [==============================] - 97s 5s/step - loss: 1.4929 - categorical_accuracy: 0.7723 - val_loss: 2.1779 - val_categorical_accuracy: 0.5078 - lr: 0.0100\n",
      "Epoch 24/30\n",
      "21/21 [==============================] - ETA: 0s - loss: 1.5450 - categorical_accuracy: 0.7396\n",
      "Epoch 24: saving model to model_init_2022-03-1008_37_12.937567/model-00024-1.54496-0.73958-2.15020-0.42969.h5\n",
      "21/21 [==============================] - 94s 5s/step - loss: 1.5450 - categorical_accuracy: 0.7396 - val_loss: 2.1502 - val_categorical_accuracy: 0.4297 - lr: 0.0100\n",
      "Epoch 25/30\n",
      "21/21 [==============================] - ETA: 0s - loss: 1.4550 - categorical_accuracy: 0.7798\n",
      "Epoch 25: saving model to model_init_2022-03-1008_37_12.937567/model-00025-1.45500-0.77976-1.91630-0.57812.h5\n",
      "21/21 [==============================] - 95s 5s/step - loss: 1.4550 - categorical_accuracy: 0.7798 - val_loss: 1.9163 - val_categorical_accuracy: 0.5781 - lr: 0.0100\n",
      "Epoch 26/30\n",
      "21/21 [==============================] - ETA: 0s - loss: 1.4306 - categorical_accuracy: 0.7887\n",
      "Epoch 26: saving model to model_init_2022-03-1008_37_12.937567/model-00026-1.43063-0.78869-1.96950-0.59375.h5\n",
      "21/21 [==============================] - 95s 5s/step - loss: 1.4306 - categorical_accuracy: 0.7887 - val_loss: 1.9695 - val_categorical_accuracy: 0.5938 - lr: 0.0100\n",
      "Epoch 27/30\n",
      "21/21 [==============================] - ETA: 0s - loss: 1.4198 - categorical_accuracy: 0.8006\n",
      "Epoch 27: saving model to model_init_2022-03-1008_37_12.937567/model-00027-1.41980-0.80060-1.95923-0.48438.h5\n",
      "21/21 [==============================] - 95s 5s/step - loss: 1.4198 - categorical_accuracy: 0.8006 - val_loss: 1.9592 - val_categorical_accuracy: 0.4844 - lr: 0.0100\n",
      "Epoch 28/30\n",
      "21/21 [==============================] - ETA: 0s - loss: 1.3499 - categorical_accuracy: 0.8274\n",
      "Epoch 28: saving model to model_init_2022-03-1008_37_12.937567/model-00028-1.34991-0.82738-1.79748-0.64062.h5\n",
      "21/21 [==============================] - 94s 5s/step - loss: 1.3499 - categorical_accuracy: 0.8274 - val_loss: 1.7975 - val_categorical_accuracy: 0.6406 - lr: 0.0100\n",
      "Epoch 29/30\n",
      "21/21 [==============================] - ETA: 0s - loss: 1.3441 - categorical_accuracy: 0.8110\n",
      "Epoch 29: saving model to model_init_2022-03-1008_37_12.937567/model-00029-1.34413-0.81101-1.80390-0.56250.h5\n",
      "21/21 [==============================] - 95s 5s/step - loss: 1.3441 - categorical_accuracy: 0.8110 - val_loss: 1.8039 - val_categorical_accuracy: 0.5625 - lr: 0.0100\n",
      "Epoch 30/30\n",
      "21/21 [==============================] - ETA: 0s - loss: 1.3520 - categorical_accuracy: 0.8199\n",
      "Epoch 30: saving model to model_init_2022-03-1008_37_12.937567/model-00030-1.35204-0.81994-1.98781-0.55469.h5\n",
      "21/21 [==============================] - 95s 5s/step - loss: 1.3520 - categorical_accuracy: 0.8199 - val_loss: 1.9878 - val_categorical_accuracy: 0.5547 - lr: 0.0100\n"
     ]
    },
    {
     "data": {
      "image/png": "[encoded data removed]",
      "text/plain": [
       "<Figure size 1080x288 with 2 Axes>"
      ]
     },
     "metadata": {
      "needs_background": "light"
     },
     "output_type": "display_data"
    }
   ],
   "source": [
    "compileandbuildmodel(model)"
   ]
  },
  {
   "cell_type": "markdown",
   "metadata": {
    "id": "v2a-oo_FJKU4"
   },
   "source": [
    "### Conv 3D\n",
    "'"
   ]
  },
  {
   "cell_type": "code",
   "execution_count": 35,
   "metadata": {
    "id": "h4DOG2rgJNUR"
   },
   "outputs": [],
   "source": [
    "from keras.layers.convolutional import Conv3D, MaxPooling3D\n",
    "model = Sequential()\n",
    "model.add(Conv3D(16, (3, 3, 3), padding='same',\n",
    "                 input_shape=(15,120,120,3)))\n",
    "model.add(Activation('relu'))\n",
    "model.add(BatchNormalization())\n",
    "model.add(MaxPooling3D(pool_size=(2, 2, 2)))\n",
    "\n",
    "model.add(Conv3D(32, (2, 2, 2), padding='same'))\n",
    "model.add(Activation('relu'))\n",
    "model.add(BatchNormalization())\n",
    "model.add(MaxPooling3D(pool_size=(2, 2, 2)))\n",
    "\n",
    "model.add(Conv3D(64, (2, 2, 2), padding='same'))\n",
    "model.add(Activation('relu'))\n",
    "model.add(BatchNormalization())\n",
    "model.add(MaxPooling3D(pool_size=(2, 2, 2)))\n",
    "\n",
    "\n",
    "        \n",
    "model.add(Flatten())\n",
    "model.add(Dense(64,activation='relu'))\n",
    "model.add(BatchNormalization())\n",
    "model.add(Dropout(0.25))\n",
    "\n",
    "model.add(Dense(64,activation='relu'))\n",
    "model.add(BatchNormalization())\n",
    "model.add(Dropout(0.25))\n",
    "\n",
    "model.add(Dense(5,activation='softmax'))"
   ]
  },
  {
   "cell_type": "code",
   "execution_count": 36,
   "metadata": {
    "colab": {
     "base_uri": "https://localhost:8080/",
     "height": 1000
    },
    "id": "mLSlYlDhJyNi",
    "outputId": "002f323e-bfa3-45af-e0da-e5f3624c4e14"
   },
   "outputs": [
    {
     "name": "stdout",
     "output_type": "stream",
     "text": [
      "Model: \"sequential_5\"\n",
      "_________________________________________________________________\n",
      " Layer (type)                Output Shape              Param #   \n",
      "=================================================================\n",
      " conv3d (Conv3D)             (None, 15, 120, 120, 16)  1312      \n",
      "                                                                 \n",
      " activation_26 (Activation)  (None, 15, 120, 120, 16)  0         \n",
      "                                                                 \n",
      " batch_normalization_16 (Bat  (None, 15, 120, 120, 16)  64       \n",
      " chNormalization)                                                \n",
      "                                                                 \n",
      " max_pooling3d (MaxPooling3D  (None, 7, 60, 60, 16)    0         \n",
      " )                                                               \n",
      "                                                                 \n",
      " conv3d_1 (Conv3D)           (None, 7, 60, 60, 32)     4128      \n",
      "                                                                 \n",
      " activation_27 (Activation)  (None, 7, 60, 60, 32)     0         \n",
      "                                                                 \n",
      " batch_normalization_17 (Bat  (None, 7, 60, 60, 32)    128       \n",
      " chNormalization)                                                \n",
      "                                                                 \n",
      " max_pooling3d_1 (MaxPooling  (None, 3, 30, 30, 32)    0         \n",
      " 3D)                                                             \n",
      "                                                                 \n",
      " conv3d_2 (Conv3D)           (None, 3, 30, 30, 64)     16448     \n",
      "                                                                 \n",
      " activation_28 (Activation)  (None, 3, 30, 30, 64)     0         \n",
      "                                                                 \n",
      " batch_normalization_18 (Bat  (None, 3, 30, 30, 64)    256       \n",
      " chNormalization)                                                \n",
      "                                                                 \n",
      " max_pooling3d_2 (MaxPooling  (None, 1, 15, 15, 64)    0         \n",
      " 3D)                                                             \n",
      "                                                                 \n",
      " flatten_5 (Flatten)         (None, 14400)             0         \n",
      "                                                                 \n",
      " dense_10 (Dense)            (None, 64)                921664    \n",
      "                                                                 \n",
      " batch_normalization_19 (Bat  (None, 64)               256       \n",
      " chNormalization)                                                \n",
      "                                                                 \n",
      " dropout_13 (Dropout)        (None, 64)                0         \n",
      "                                                                 \n",
      " dense_11 (Dense)            (None, 64)                4160      \n",
      "                                                                 \n",
      " batch_normalization_20 (Bat  (None, 64)               256       \n",
      " chNormalization)                                                \n",
      "                                                                 \n",
      " dropout_14 (Dropout)        (None, 64)                0         \n",
      "                                                                 \n",
      " dense_12 (Dense)            (None, 5)                 325       \n",
      "                                                                 \n",
      "=================================================================\n",
      "Total params: 948,997\n",
      "Trainable params: 948,517\n",
      "Non-trainable params: 480\n",
      "_________________________________________________________________\n",
      "None\n",
      "WARNING:tensorflow:`period` argument is deprecated. Please use `save_freq` to specify the frequency in number of batches seen.\n",
      "Source path =  /content/drive/MyDrive/Project_data/train ; batch size = 32\n"
     ]
    },
    {
     "name": "stderr",
     "output_type": "stream",
     "text": [
      "/usr/local/lib/python3.7/dist-packages/ipykernel_launcher.py:35: UserWarning: `Model.fit_generator` is deprecated and will be removed in a future version. Please use `Model.fit`, which supports generators.\n"
     ]
    },
    {
     "name": "stdout",
     "output_type": "stream",
     "text": [
      "Epoch 1/30\n",
      "21/21 [==============================] - ETA: 0s - loss: 1.5839 - categorical_accuracy: 0.3884Source path =  /content/drive/MyDrive/Project_data/val ; batch size = 32\n",
      "\n",
      "Epoch 1: saving model to model_init_2022-03-1008_37_12.937567/model-00001-1.58395-0.38839-9.18925-0.27344.h5\n",
      "21/21 [==============================] - 97s 5s/step - loss: 1.5839 - categorical_accuracy: 0.3884 - val_loss: 9.1893 - val_categorical_accuracy: 0.2734 - lr: 0.0100\n",
      "Epoch 2/30\n",
      "21/21 [==============================] - ETA: 0s - loss: 1.0199 - categorical_accuracy: 0.6012\n",
      "Epoch 2: saving model to model_init_2022-03-1008_37_12.937567/model-00002-1.01986-0.60119-2.63191-0.22656.h5\n",
      "21/21 [==============================] - 97s 5s/step - loss: 1.0199 - categorical_accuracy: 0.6012 - val_loss: 2.6319 - val_categorical_accuracy: 0.2266 - lr: 0.0100\n",
      "Epoch 3/30\n",
      "21/21 [==============================] - ETA: 0s - loss: 0.7662 - categorical_accuracy: 0.7217\n",
      "Epoch 3: saving model to model_init_2022-03-1008_37_12.937567/model-00003-0.76620-0.72173-1.52128-0.40625.h5\n",
      "21/21 [==============================] - 98s 5s/step - loss: 0.7662 - categorical_accuracy: 0.7217 - val_loss: 1.5213 - val_categorical_accuracy: 0.4062 - lr: 0.0100\n",
      "Epoch 4/30\n",
      "21/21 [==============================] - ETA: 0s - loss: 0.6557 - categorical_accuracy: 0.7679\n",
      "Epoch 4: saving model to model_init_2022-03-1008_37_12.937567/model-00004-0.65566-0.76786-1.39087-0.38281.h5\n",
      "21/21 [==============================] - 97s 5s/step - loss: 0.6557 - categorical_accuracy: 0.7679 - val_loss: 1.3909 - val_categorical_accuracy: 0.3828 - lr: 0.0100\n",
      "Epoch 5/30\n",
      "21/21 [==============================] - ETA: 0s - loss: 0.4966 - categorical_accuracy: 0.8229\n",
      "Epoch 5: saving model to model_init_2022-03-1008_37_12.937567/model-00005-0.49664-0.82292-1.43275-0.47656.h5\n",
      "21/21 [==============================] - 100s 5s/step - loss: 0.4966 - categorical_accuracy: 0.8229 - val_loss: 1.4328 - val_categorical_accuracy: 0.4766 - lr: 0.0100\n",
      "Epoch 6/30\n",
      "21/21 [==============================] - ETA: 0s - loss: 0.4419 - categorical_accuracy: 0.8557\n",
      "Epoch 6: saving model to model_init_2022-03-1008_37_12.937567/model-00006-0.44193-0.85565-1.31506-0.44531.h5\n",
      "21/21 [==============================] - 112s 6s/step - loss: 0.4419 - categorical_accuracy: 0.8557 - val_loss: 1.3151 - val_categorical_accuracy: 0.4453 - lr: 0.0100\n",
      "Epoch 7/30\n",
      "21/21 [==============================] - ETA: 0s - loss: 0.3345 - categorical_accuracy: 0.9003\n",
      "Epoch 7: saving model to model_init_2022-03-1008_37_12.937567/model-00007-0.33453-0.90030-1.06686-0.61719.h5\n",
      "21/21 [==============================] - 99s 5s/step - loss: 0.3345 - categorical_accuracy: 0.9003 - val_loss: 1.0669 - val_categorical_accuracy: 0.6172 - lr: 0.0100\n",
      "Epoch 8/30\n",
      "21/21 [==============================] - ETA: 0s - loss: 0.3082 - categorical_accuracy: 0.9122\n",
      "Epoch 8: saving model to model_init_2022-03-1008_37_12.937567/model-00008-0.30824-0.91220-1.06700-0.57812.h5\n",
      "21/21 [==============================] - 103s 5s/step - loss: 0.3082 - categorical_accuracy: 0.9122 - val_loss: 1.0670 - val_categorical_accuracy: 0.5781 - lr: 0.0100\n",
      "Epoch 9/30\n",
      "21/21 [==============================] - ETA: 0s - loss: 0.2493 - categorical_accuracy: 0.9330\n",
      "Epoch 9: saving model to model_init_2022-03-1008_37_12.937567/model-00009-0.24931-0.93304-0.99754-0.58594.h5\n",
      "21/21 [==============================] - 101s 5s/step - loss: 0.2493 - categorical_accuracy: 0.9330 - val_loss: 0.9975 - val_categorical_accuracy: 0.5859 - lr: 0.0100\n",
      "Epoch 10/30\n",
      "21/21 [==============================] - ETA: 0s - loss: 0.2408 - categorical_accuracy: 0.9345\n",
      "Epoch 10: saving model to model_init_2022-03-1008_37_12.937567/model-00010-0.24077-0.93452-1.01963-0.53125.h5\n",
      "21/21 [==============================] - 105s 5s/step - loss: 0.2408 - categorical_accuracy: 0.9345 - val_loss: 1.0196 - val_categorical_accuracy: 0.5312 - lr: 0.0100\n",
      "Epoch 11/30\n",
      "21/21 [==============================] - ETA: 0s - loss: 0.1699 - categorical_accuracy: 0.9747\n",
      "Epoch 11: saving model to model_init_2022-03-1008_37_12.937567/model-00011-0.16991-0.97470-1.08976-0.61719.h5\n",
      "21/21 [==============================] - 99s 5s/step - loss: 0.1699 - categorical_accuracy: 0.9747 - val_loss: 1.0898 - val_categorical_accuracy: 0.6172 - lr: 0.0100\n",
      "Epoch 12/30\n",
      "21/21 [==============================] - ETA: 0s - loss: 0.1636 - categorical_accuracy: 0.9702\n",
      "Epoch 12: saving model to model_init_2022-03-1008_37_12.937567/model-00012-0.16362-0.97024-0.99644-0.60156.h5\n",
      "21/21 [==============================] - 101s 5s/step - loss: 0.1636 - categorical_accuracy: 0.9702 - val_loss: 0.9964 - val_categorical_accuracy: 0.6016 - lr: 0.0100\n",
      "Epoch 13/30\n",
      "21/21 [==============================] - ETA: 0s - loss: 0.1543 - categorical_accuracy: 0.9658\n",
      "Epoch 13: saving model to model_init_2022-03-1008_37_12.937567/model-00013-0.15428-0.96577-0.90392-0.62500.h5\n",
      "21/21 [==============================] - 101s 5s/step - loss: 0.1543 - categorical_accuracy: 0.9658 - val_loss: 0.9039 - val_categorical_accuracy: 0.6250 - lr: 0.0100\n",
      "Epoch 14/30\n",
      "21/21 [==============================] - ETA: 0s - loss: 0.1762 - categorical_accuracy: 0.9613\n",
      "Epoch 14: saving model to model_init_2022-03-1008_37_12.937567/model-00014-0.17621-0.96131-1.24101-0.53906.h5\n",
      "21/21 [==============================] - 101s 5s/step - loss: 0.1762 - categorical_accuracy: 0.9613 - val_loss: 1.2410 - val_categorical_accuracy: 0.5391 - lr: 0.0100\n",
      "Epoch 15/30\n",
      "21/21 [==============================] - ETA: 0s - loss: 0.1543 - categorical_accuracy: 0.9702\n",
      "Epoch 15: saving model to model_init_2022-03-1008_37_12.937567/model-00015-0.15431-0.97024-1.09820-0.58594.h5\n",
      "21/21 [==============================] - 100s 5s/step - loss: 0.1543 - categorical_accuracy: 0.9702 - val_loss: 1.0982 - val_categorical_accuracy: 0.5859 - lr: 0.0100\n",
      "Epoch 16/30\n",
      "21/21 [==============================] - ETA: 0s - loss: 0.1374 - categorical_accuracy: 0.9792\n",
      "Epoch 16: saving model to model_init_2022-03-1008_37_12.937567/model-00016-0.13737-0.97917-1.39910-0.50781.h5\n",
      "21/21 [==============================] - 102s 5s/step - loss: 0.1374 - categorical_accuracy: 0.9792 - val_loss: 1.3991 - val_categorical_accuracy: 0.5078 - lr: 0.0100\n",
      "Epoch 17/30\n",
      "21/21 [==============================] - ETA: 0s - loss: 0.1178 - categorical_accuracy: 0.9807\n",
      "Epoch 17: saving model to model_init_2022-03-1008_37_12.937567/model-00017-0.11776-0.98065-1.01469-0.67969.h5\n",
      "21/21 [==============================] - 100s 5s/step - loss: 0.1178 - categorical_accuracy: 0.9807 - val_loss: 1.0147 - val_categorical_accuracy: 0.6797 - lr: 0.0100\n",
      "Epoch 18/30\n",
      "21/21 [==============================] - ETA: 0s - loss: 0.1111 - categorical_accuracy: 0.9732\n",
      "Epoch 18: saving model to model_init_2022-03-1008_37_12.937567/model-00018-0.11112-0.97321-0.92926-0.71094.h5\n",
      "21/21 [==============================] - 102s 5s/step - loss: 0.1111 - categorical_accuracy: 0.9732 - val_loss: 0.9293 - val_categorical_accuracy: 0.7109 - lr: 0.0100\n",
      "Epoch 19/30\n",
      "21/21 [==============================] - ETA: 0s - loss: 0.1006 - categorical_accuracy: 0.9821\n",
      "Epoch 19: saving model to model_init_2022-03-1008_37_12.937567/model-00019-0.10064-0.98214-1.12724-0.64062.h5\n",
      "21/21 [==============================] - 104s 5s/step - loss: 0.1006 - categorical_accuracy: 0.9821 - val_loss: 1.1272 - val_categorical_accuracy: 0.6406 - lr: 0.0100\n",
      "Epoch 20/30\n",
      "21/21 [==============================] - ETA: 0s - loss: 0.0874 - categorical_accuracy: 0.9836\n",
      "Epoch 20: saving model to model_init_2022-03-1008_37_12.937567/model-00020-0.08742-0.98363-0.81262-0.70312.h5\n",
      "21/21 [==============================] - 101s 5s/step - loss: 0.0874 - categorical_accuracy: 0.9836 - val_loss: 0.8126 - val_categorical_accuracy: 0.7031 - lr: 0.0100\n",
      "Epoch 21/30\n",
      "21/21 [==============================] - ETA: 0s - loss: 0.0865 - categorical_accuracy: 0.9836\n",
      "Epoch 21: saving model to model_init_2022-03-1008_37_12.937567/model-00021-0.08652-0.98363-0.79253-0.73438.h5\n",
      "21/21 [==============================] - 100s 5s/step - loss: 0.0865 - categorical_accuracy: 0.9836 - val_loss: 0.7925 - val_categorical_accuracy: 0.7344 - lr: 0.0100\n",
      "Epoch 22/30\n",
      "21/21 [==============================] - ETA: 0s - loss: 0.0969 - categorical_accuracy: 0.9792\n",
      "Epoch 22: saving model to model_init_2022-03-1008_37_12.937567/model-00022-0.09692-0.97917-1.21094-0.62500.h5\n",
      "21/21 [==============================] - 102s 5s/step - loss: 0.0969 - categorical_accuracy: 0.9792 - val_loss: 1.2109 - val_categorical_accuracy: 0.6250 - lr: 0.0100\n",
      "Epoch 23/30\n",
      "21/21 [==============================] - ETA: 0s - loss: 0.0667 - categorical_accuracy: 0.9926\n",
      "Epoch 23: saving model to model_init_2022-03-1008_37_12.937567/model-00023-0.06671-0.99256-0.99455-0.67188.h5\n",
      "21/21 [==============================] - 100s 5s/step - loss: 0.0667 - categorical_accuracy: 0.9926 - val_loss: 0.9946 - val_categorical_accuracy: 0.6719 - lr: 0.0100\n",
      "Epoch 24/30\n",
      "21/21 [==============================] - ETA: 0s - loss: 0.0703 - categorical_accuracy: 0.9911\n",
      "Epoch 24: saving model to model_init_2022-03-1008_37_12.937567/model-00024-0.07032-0.99107-1.07298-0.65625.h5\n",
      "21/21 [==============================] - 102s 5s/step - loss: 0.0703 - categorical_accuracy: 0.9911 - val_loss: 1.0730 - val_categorical_accuracy: 0.6562 - lr: 0.0100\n",
      "Epoch 25/30\n",
      "21/21 [==============================] - ETA: 0s - loss: 0.0698 - categorical_accuracy: 0.9896\n",
      "Epoch 25: saving model to model_init_2022-03-1008_37_12.937567/model-00025-0.06978-0.98958-0.94637-0.68750.h5\n",
      "21/21 [==============================] - 100s 5s/step - loss: 0.0698 - categorical_accuracy: 0.9896 - val_loss: 0.9464 - val_categorical_accuracy: 0.6875 - lr: 0.0100\n",
      "Epoch 26/30\n",
      "21/21 [==============================] - ETA: 0s - loss: 0.0605 - categorical_accuracy: 0.9955\n",
      "Epoch 26: saving model to model_init_2022-03-1008_37_12.937567/model-00026-0.06052-0.99554-1.01166-0.62500.h5\n",
      "21/21 [==============================] - 99s 5s/step - loss: 0.0605 - categorical_accuracy: 0.9955 - val_loss: 1.0117 - val_categorical_accuracy: 0.6250 - lr: 0.0100\n",
      "Epoch 27/30\n",
      "21/21 [==============================] - ETA: 0s - loss: 0.0540 - categorical_accuracy: 0.9896\n",
      "Epoch 27: saving model to model_init_2022-03-1008_37_12.937567/model-00027-0.05401-0.98958-1.06523-0.68750.h5\n",
      "21/21 [==============================] - 99s 5s/step - loss: 0.0540 - categorical_accuracy: 0.9896 - val_loss: 1.0652 - val_categorical_accuracy: 0.6875 - lr: 0.0100\n",
      "Epoch 28/30\n",
      "21/21 [==============================] - ETA: 0s - loss: 0.0456 - categorical_accuracy: 0.9985\n",
      "Epoch 28: saving model to model_init_2022-03-1008_37_12.937567/model-00028-0.04564-0.99851-0.92430-0.71875.h5\n",
      "21/21 [==============================] - 99s 5s/step - loss: 0.0456 - categorical_accuracy: 0.9985 - val_loss: 0.9243 - val_categorical_accuracy: 0.7188 - lr: 0.0100\n",
      "Epoch 29/30\n",
      "21/21 [==============================] - ETA: 0s - loss: 0.0525 - categorical_accuracy: 0.9940\n",
      "Epoch 29: saving model to model_init_2022-03-1008_37_12.937567/model-00029-0.05251-0.99405-0.81121-0.73438.h5\n",
      "21/21 [==============================] - 96s 5s/step - loss: 0.0525 - categorical_accuracy: 0.9940 - val_loss: 0.8112 - val_categorical_accuracy: 0.7344 - lr: 0.0100\n",
      "Epoch 30/30\n",
      "21/21 [==============================] - ETA: 0s - loss: 0.0476 - categorical_accuracy: 0.9940\n",
      "Epoch 30: saving model to model_init_2022-03-1008_37_12.937567/model-00030-0.04759-0.99405-1.00350-0.62500.h5\n",
      "21/21 [==============================] - 96s 5s/step - loss: 0.0476 - categorical_accuracy: 0.9940 - val_loss: 1.0035 - val_categorical_accuracy: 0.6250 - lr: 0.0100\n"
     ]
    },
    {
     "data": {
      "image/png": "[encoded data removed]",
      "text/plain": [
       "<Figure size 1080x288 with 2 Axes>"
      ]
     },
     "metadata": {
      "needs_background": "light"
     },
     "output_type": "display_data"
    }
   ],
   "source": [
    "compileandbuildmodel(model)"
   ]
  }
 ],
 "metadata": {
  "accelerator": "GPU",
  "colab": {
   "collapsed_sections": [],
   "name": "Neural_Nets_Project-March.ipynb",
   "provenance": []
  },
  "kernelspec": {
   "display_name": "Python 3 (ipykernel)",
   "language": "python",
   "name": "python3"
  },
  "language_info": {
   "codemirror_mode": {
    "name": "ipython",
    "version": 3
   },
   "file_extension": ".py",
   "mimetype": "text/x-python",
   "name": "python",
   "nbconvert_exporter": "python",
   "pygments_lexer": "ipython3",
   "version": "3.9.7"
  }
 },
 "nbformat": 4,
 "nbformat_minor": 1
}
